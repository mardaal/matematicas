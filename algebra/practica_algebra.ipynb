{
  "nbformat": 4,
  "nbformat_minor": 0,
  "metadata": {
    "colab": {
      "provenance": [],
      "include_colab_link": true
    },
    "kernelspec": {
      "name": "python3",
      "display_name": "Python 3"
    },
    "language_info": {
      "name": "python"
    }
  },
  "cells": [
    {
      "cell_type": "markdown",
      "metadata": {
        "id": "view-in-github",
        "colab_type": "text"
      },
      "source": [
        "<a href=\"https://colab.research.google.com/github/mardaal/matematicas/blob/main/algebra/practica_algebra.ipynb\" target=\"_parent\"><img src=\"https://colab.research.google.com/assets/colab-badge.svg\" alt=\"Open In Colab\"/></a>"
      ]
    },
    {
      "cell_type": "markdown",
      "source": [
        "# Práctica 3. Álgebra\n",
        "* Para aprender sobre Python vea la playlist [Python para Matemáticas](https://www.youtube.com/playlist?list=PL8gpDXwO-9l4HkDJ9QhB4H-cOiT0BYGau)\n",
        "* Para obtener ideas y vídeos para la resolución de la práctica vea los archivos siguientes: [Ideas](https://github.com/financieras/math/tree/main/ideas)"
      ],
      "metadata": {
        "id": "b13aYMDxmd7v"
      }
    },
    {
      "cell_type": "markdown",
      "source": [
        "## Práctica 3.1\n",
        "**Determinante en Excel**  \n",
        "\n",
        "* Cree un fichero en Excel de nombre algebra.xlsm.\n",
        "* La extensión **xlsm** corresponde a los archivos de Excel habilitados para macros.\n",
        "* Utilice la Hoja 1 para hacer la Práctica 3.1.\n",
        "* Se pide:\n",
        " 1. Cree una matriz cuadrada de dimensión 5×5, formada por números aleatorios enteros entre -9 y +9.\n",
        " 2. Calcule el determinante de esta matriz\n",
        " 3. Cree un programa en **VBA** que busque una matriz de este tipo cuyo determinante sea cero.\n",
        " 4. Copie la matriz encontrada y péguela debajo con \"pegado especial valores\" para que no varíe su contenido al efectuar el recálculo manual de la hoja."
      ],
      "metadata": {
        "id": "XWa9IdzJmpbB"
      }
    },
    {
      "cell_type": "markdown",
      "source": [
        "## Práctica 3.2\n",
        "**Matriz inversa en Excel**  \n",
        "\n",
        "* Use el mismo archivo de Excel con extensión **xlsm** del caso anterior. \n",
        "* Utilice la Hoja 2 para hacer la Práctica 3.2.\n",
        "* Se pide:\n",
        " 1. Crea la matriz $A$ que es una matriz cuadrada de dimensiones 5×5 usando números aleatorios enteros entre -9 y +9, excepto cero\n",
        " 2. Calcule su determinante\n",
        " 3. Calcule su transpuesta usando la función ```TRANSPONER```\n",
        " 4. Calcule su matriz inversa $A^{-1}$\n",
        " 5. Multiplique la matriz $A$ por su inversa $A^{-1}$ y compruebe que el producto es la matriz identidad.\n",
        " $$AA^{-1}=I$$"
      ],
      "metadata": {
        "id": "cP-ppBE1rzGW"
      }
    },
    {
      "cell_type": "markdown",
      "source": [
        "## Práctica 3.3\n",
        "**Resolución de sistemas lineales en Excel**  \n",
        "\n",
        "* Use el mismo archivo de Excel con extensión **xlsm** del caso anterior. \n",
        "* Utilice la Hoja 3 para hacer la Práctica 3.3.\n",
        "* Se pide:\n",
        " 1. Cree un sistema de 5 ecuaciones con 5 incógnitas con **solución única**.\n",
        " 2. Una de las ecuaciones será: $\\quad x_1+2x_2-x_3+x_4-3x_5=6$\n",
        " 3. Muestre las ecuaciones del sistema usando el [editor de ecuaciones](https://support.microsoft.com/es-es/office/editor-de-ecuaciones-6eac7d71-3c74-437b-80d3-c7dea24fdf3f) de Excel. $\\quad Ax=b$\n",
        " 4. Monte la matriz $A$ del sistema de ecuaciones y la matriz $b$ con los términos independientes. Muestre ambas matrices.\n",
        " 5. Calcule la matriz inversa $A^{-1}$\n",
        " 6. Resuelva el sistema lineal de ecuaciones con este método: $\\quad Ax=b \\quad \\Longrightarrow \\quad x=A^{-1}b$\n",
        " 7. Compruebe si el resultado obtenido es la solución del sistema de ecuaciones. Justifique esa comprobación."
      ],
      "metadata": {
        "id": "jJRClauctBdf"
      }
    },
    {
      "cell_type": "markdown",
      "source": [
        "## Práctica 3.4\n",
        "**Matriz inversa en Python**  \n",
        "\n",
        "Desarrolla un código en Python que al ejecutarse consiga los siguientes apartados.  \n",
        "1. Crea una matriz cuadrada de dimensiones 3×3 usando números aleatorios enteros entre -9 y +9, excepto cero\n",
        "2. Buscar un caso donde el determinante sea igual a 1\n",
        "3. Si el determinante es 1 imprime la matriz y su determinante\n",
        "4. Calcula e imprime su transpuesta\n",
        "5. Calcula e imprime su matriz inversa\n",
        "6. Multiplica la matriz creada por su inversa y comprueba que el producto es la matriz identidad.\n",
        "7. Calcula cuantos segundos ha tardado en realizarse el proceso."
      ],
      "metadata": {
        "id": "EMlUZC6Lqzfs"
      }
    },
    {
      "cell_type": "code",
      "source": [
        "import random\n",
        "random.seed()\n",
        "rnd = random.random()\n",
        "print(\"Número aletarorio entre 0 y 1:\", rnd)"
      ],
      "metadata": {
        "colab": {
          "base_uri": "https://localhost:8080/"
        },
        "id": "RM6ZuVWb4RH5",
        "outputId": "c22dc6ac-308d-4b48-8cd1-a51fdc1a2d4c"
      },
      "execution_count": 2,
      "outputs": [
        {
          "output_type": "stream",
          "name": "stdout",
          "text": [
            "Nùmero aletarorio entre 0 y 1: 0.5185171424983059\n"
          ]
        }
      ]
    },
    {
      "cell_type": "markdown",
      "source": [
        "## Práctica 3.5\n",
        "**Resolución de sistemas lineales en Python**  \n",
        "\n",
        "1. Cree un sistema de 4 ecuaciones con 4 incógnitas con **solución única**.\n",
        "2. La solución del sistema es: $\\; \\begin{pmatrix}x_1, x_2, x_3, x_4\\end{pmatrix} = \\begin{pmatrix} 3, 4, 5, 2\\end{pmatrix}$  \n",
        "3. Una de las ecuaciones del sistema es: $\\enspace x_1+3x_2-x_3-2x_4=6$  \n",
        "4. El vector $b$ de términos independientes es: $\\enspace b=\\begin{pmatrix}6, 3, 5, 7\\end{pmatrix}$  \n",
        "5. Usando números aleatorios elija los coeficientes que faltan de la matriz $A$ del sistema de ecuaciones.\n",
        "  - Los coeficientes deben ser números enteros entre -5 y +5, excluido el cero.\n",
        "  - Imprima la matriz $A$.  \n",
        "6. Calcule e imprima el determinante de $A$.\n",
        "7. Calcule e imprima la matriz inversa $A^{-1}$  \n",
        "8. Resuelva el sistema lineal de ecuaciones con este método: $$Ax=b \\quad \\Longrightarrow \\quad x=A^{-1}b$$\n",
        "9. Compruebe que el resultado obtenido es la solución del sistema de ecuaciones.  \n",
        "10. Resuelva nuevamente el sistema de ecuaciones usando ```np.linalg.solve```."
      ],
      "metadata": {
        "id": "tQQS7GPXIdjH"
      }
    },
    {
      "cell_type": "markdown",
      "source": [
        "## Práctica 3.6\n",
        "**Resolución de sistemas lineales con Octave**  \n",
        "\n",
        "1. Tome el mismo sistema 4x4 con solución única del ejercicio anterior.\n",
        "2. Muestra el sistema usando $\\LaTeX$\n",
        "3. Resuélvelo con Octave por dos métodos\n",
        "4. ¿Ambos métodos dan el mismo resultado?"
      ],
      "metadata": {
        "id": "M39ufifh_Jr8"
      }
    },
    {
      "cell_type": "markdown",
      "source": [
        "## Práctica 3.7\n",
        "**Diagonalización en Python**\n",
        "\n",
        "* Sea la matriz cuadrada $A$ de orden 4x4\n",
        "\n",
        "$$A=\\left(\n",
        "\\begin{array}{rrrr}\n",
        " -1 &-2 &  3 &-1 \\\\\n",
        "  0 & 2 &  0 & 0 \\\\\n",
        "  0 & 0 &  2 & 0 \\\\\n",
        "  0 & 0 &  0 & 1\n",
        "\\end{array}\n",
        "\\right)$$\n",
        "1. Calcula los **autovalores** y **autovectores**\n",
        "2. Calcula y muestra:\n",
        " - la matriz diagonal $D$\n",
        " - la matriz de paso $P$\n",
        " - su inversa $P^{-1}$  \n",
        "3. Comprueba que se cumple que $A^3=PD^3P^{-1}$"
      ],
      "metadata": {
        "id": "KOhR4DdkL7kg"
      }
    },
    {
      "cell_type": "markdown",
      "source": [
        "##Solución 2.7"
      ],
      "metadata": {
        "id": "ZIpHqctTd6r-"
      }
    },
    {
      "cell_type": "code",
      "source": [
        "import numpy as np\n",
        "A = np.array([[-1,-2,3,-1], [0,2,0,0], [0,0,2,0], [0,0,0,1]])\n",
        "d,P = np.linalg.eig(A)\n",
        "print(\"d: \", d)\n",
        "D = np.diag(d)\n",
        "print(\"\\nD:\\n\", D)\n",
        "print(\"\\nP:\\n\", P)\n",
        "Dcubo = D @ D @ D\n",
        "\n",
        "print(\"Inversa:\")\n",
        "minv = np.linalg.inv(P)\n",
        "print(minv)\n",
        "print()\n",
        "\n",
        "print(\"\\nDcubo:\\n\", Dcubo)\n",
        "print(\"\\nSolución:\\n\", P @ Dcubo @ np.linalg.inv(P))"
      ],
      "metadata": {
        "colab": {
          "base_uri": "https://localhost:8080/"
        },
        "id": "5PaPOGWveORn",
        "outputId": "cd971a59-01b5-4374-907b-c24a57c523c9"
      },
      "execution_count": 5,
      "outputs": [
        {
          "output_type": "stream",
          "name": "stdout",
          "text": [
            "d:  [-1.  2.  2.  1.]\n",
            "\n",
            "D:\n",
            " [[-1.  0.  0.  0.]\n",
            " [ 0.  2.  0.  0.]\n",
            " [ 0.  0.  2.  0.]\n",
            " [ 0.  0.  0.  1.]]\n",
            "\n",
            "P:\n",
            " [[ 1.         -0.5547002   0.70710678 -0.4472136 ]\n",
            " [ 0.          0.83205029  0.          0.        ]\n",
            " [ 0.          0.          0.70710678  0.        ]\n",
            " [ 0.          0.          0.          0.89442719]]\n",
            "Inversa:\n",
            "[[ 1.          0.66666667 -1.          0.5       ]\n",
            " [ 0.          1.20185043  0.          0.        ]\n",
            " [ 0.          0.          1.41421356  0.        ]\n",
            " [ 0.          0.          0.          1.11803399]]\n",
            "\n",
            "\n",
            "Dcubo:\n",
            " [[-1.  0.  0.  0.]\n",
            " [ 0.  8.  0.  0.]\n",
            " [ 0.  0.  8.  0.]\n",
            " [ 0.  0.  0.  1.]]\n",
            "\n",
            "Solución:\n",
            " [[-1. -6.  9. -1.]\n",
            " [ 0.  8.  0.  0.]\n",
            " [ 0.  0.  8.  0.]\n",
            " [ 0.  0.  0.  1.]]\n"
          ]
        }
      ]
    },
    {
      "cell_type": "markdown",
      "source": [
        "## Práctica 3.8\n",
        "**Diagonalización con Octave**\n",
        "\n",
        "Resuelva el ejercicio anterior, pero en esta ocasión utilizando Octave."
      ],
      "metadata": {
        "id": "tqHIq-of_N_v"
      }
    },
    {
      "cell_type": "markdown",
      "source": [
        "##Solución 3.8\n"
      ],
      "metadata": {
        "id": "tEg2cJcpvgua"
      }
    },
    {
      "cell_type": "code",
      "source": [
        "!apt update\n",
        "!apt install octave"
      ],
      "metadata": {
        "colab": {
          "base_uri": "https://localhost:8080/"
        },
        "id": "_q4HzDBczGMb",
        "outputId": "3ad8522a-b815-4c1a-e7d7-e99cfa0e22e8"
      },
      "execution_count": 13,
      "outputs": [
        {
          "output_type": "stream",
          "name": "stdout",
          "text": [
            "\u001b[33m\r0% [Working]\u001b[0m\r            \rHit:1 http://ppa.launchpad.net/c2d4u.team/c2d4u4.0+/ubuntu bionic InRelease\n",
            "\u001b[33m\r0% [Connecting to archive.ubuntu.com (91.189.91.38)] [Connecting to security.ub\u001b[0m\u001b[33m\r0% [1 InRelease gpgv 15.9 kB] [Connecting to archive.ubuntu.com (91.189.91.38)]\u001b[0m\r                                                                               \rHit:2 http://ppa.launchpad.net/cran/libgit2/ubuntu bionic InRelease\n",
            "\u001b[33m\r0% [1 InRelease gpgv 15.9 kB] [Connecting to archive.ubuntu.com (91.189.91.38)]\u001b[0m\r                                                                               \rHit:3 http://ppa.launchpad.net/deadsnakes/ppa/ubuntu bionic InRelease\n",
            "\u001b[33m\r0% [1 InRelease gpgv 15.9 kB] [Connecting to archive.ubuntu.com (91.189.91.38)]\u001b[0m\r                                                                               \rHit:4 http://ppa.launchpad.net/graphics-drivers/ppa/ubuntu bionic InRelease\n",
            "\u001b[33m\r0% [1 InRelease gpgv 15.9 kB] [Waiting for headers] [Waiting for headers] [Wait\u001b[0m\r                                                                               \rHit:5 https://cloud.r-project.org/bin/linux/ubuntu bionic-cran40/ InRelease\n",
            "\u001b[33m\r0% [1 InRelease gpgv 15.9 kB] [Waiting for headers] [Waiting for headers] [Wait\u001b[0m\r                                                                               \rHit:6 http://security.ubuntu.com/ubuntu bionic-security InRelease\n",
            "\u001b[33m\r                                                                               \r0% [1 InRelease gpgv 15.9 kB] [Waiting for headers] [Waiting for headers]\u001b[0m\r                                                                         \rHit:7 http://archive.ubuntu.com/ubuntu bionic InRelease\n",
            "Hit:8 http://archive.ubuntu.com/ubuntu bionic-updates InRelease\n",
            "Hit:9 http://archive.ubuntu.com/ubuntu bionic-backports InRelease\n",
            "Ign:10 https://developer.download.nvidia.com/compute/machine-learning/repos/ubuntu1804/x86_64  InRelease\n",
            "Hit:11 https://developer.download.nvidia.com/compute/cuda/repos/ubuntu1804/x86_64  InRelease\n",
            "Hit:12 https://developer.download.nvidia.com/compute/machine-learning/repos/ubuntu1804/x86_64  Release\n",
            "Reading package lists... Done\n",
            "Building dependency tree       \n",
            "Reading state information... Done\n",
            "20 packages can be upgraded. Run 'apt list --upgradable' to see them.\n",
            "Reading package lists... Done\n",
            "Building dependency tree       \n",
            "Reading state information... Done\n",
            "octave is already the newest version (4.2.2-1ubuntu1).\n",
            "The following package was automatically installed and is no longer required:\n",
            "  libnvidia-common-460\n",
            "Use 'apt autoremove' to remove it.\n",
            "0 upgraded, 0 newly installed, 0 to remove and 20 not upgraded.\n"
          ]
        }
      ]
    },
    {
      "cell_type": "code",
      "source": [
        "%%writefile diagonaliza.m\n",
        "A = [-1,-2,3,-1; 0,2,0,0; 0,0,2,0; 0,0,0,1]\n",
        "[P,D]=eig(A)\n",
        "Dcubo = D^3\n",
        "Acubo = A^3\n",
        "PxDcuboXPinv = P*Dcubo*P^-1"
      ],
      "metadata": {
        "colab": {
          "base_uri": "https://localhost:8080/"
        },
        "id": "SsOSzbApzgyw",
        "outputId": "3429ea0c-f7a5-49e3-a542-06ce0c50f2de"
      },
      "execution_count": 14,
      "outputs": [
        {
          "output_type": "stream",
          "name": "stdout",
          "text": [
            "Writing diagonaliza.m\n"
          ]
        }
      ]
    },
    {
      "cell_type": "code",
      "source": [
        "!octave diagonaliza.m"
      ],
      "metadata": {
        "colab": {
          "base_uri": "https://localhost:8080/"
        },
        "id": "AH8B0OsVzkQX",
        "outputId": "e5b7f5c5-fddd-4315-bdef-b28cd572fd8c"
      },
      "execution_count": 15,
      "outputs": [
        {
          "output_type": "stream",
          "name": "stdout",
          "text": [
            "octave: X11 DISPLAY environment variable not set\n",
            "octave: disabling GUI features\n",
            "A =\n",
            "\n",
            "  -1  -2   3  -1\n",
            "   0   2   0   0\n",
            "   0   0   2   0\n",
            "   0   0   0   1\n",
            "\n",
            "P =\n",
            "\n",
            "   1.00000  -0.55470   0.70711  -0.44721\n",
            "   0.00000   0.83205   0.00000   0.00000\n",
            "   0.00000   0.00000   0.70711   0.00000\n",
            "   0.00000   0.00000   0.00000   0.89443\n",
            "\n",
            "D =\n",
            "\n",
            "Diagonal Matrix\n",
            "\n",
            "  -1   0   0   0\n",
            "   0   2   0   0\n",
            "   0   0   2   0\n",
            "   0   0   0   1\n",
            "\n",
            "Dcubo =\n",
            "\n",
            "Diagonal Matrix\n",
            "\n",
            "  -1   0   0   0\n",
            "   0   8   0   0\n",
            "   0   0   8   0\n",
            "   0   0   0   1\n",
            "\n",
            "Acubo =\n",
            "\n",
            "  -1  -6   9  -1\n",
            "   0   8   0   0\n",
            "   0   0   8   0\n",
            "   0   0   0   1\n",
            "\n",
            "PxDcuboXPinv =\n",
            "\n",
            "  -1  -6   9  -1\n",
            "   0   8   0   0\n",
            "   0   0   8   0\n",
            "   0   0   0   1\n",
            "\n"
          ]
        }
      ]
    },
    {
      "cell_type": "markdown",
      "source": [
        "## Práctica 3.9\n",
        "**Libertad para elegir el lugar de trabajo**  \n",
        "Resolver con **Octave**.\n",
        "\n",
        "Una empresa de 1.000 empleados permite que sus trabajadores cada día acudan a trabajar a la oficina o que realicen su trabajo desde su casa. Inicialmente el 90% de la plantilla trabajaba en la oficina y solo el 10% lo hacían en casa. Se ha observado que los que un día trabajan en casa tienen una probabilidad del 70% de realizarlo también desde casa al día siguiente, pero que en el restante 30% de los casos acuden a la oficina al día siguiente. Por el contrario, se ha observado que los que un día trabajaron en la oficina al día siguiente vuelven\n",
        "a la oficina en el 60% de los casos y en el 40% restante van a su casa al día siguiente.\n",
        "* Determinar qué número de empleados se quedan en casa transcurridos dos días.\n",
        "* ¿Y a largo plazo cuantos se quedan en casa?"
      ],
      "metadata": {
        "id": "Aw283nkjdtcQ"
      }
    },
    {
      "cell_type": "markdown",
      "source": [
        "##Solución 3.9\n"
      ],
      "metadata": {
        "id": "pGr05SIzvWr-"
      }
    },
    {
      "cell_type": "code",
      "source": [
        "!apt update\n",
        "!apt install octave"
      ],
      "metadata": {
        "colab": {
          "base_uri": "https://localhost:8080/"
        },
        "id": "TYP2MQ6FuNkT",
        "outputId": "05030b83-fa99-4876-d57f-a74d197e3468"
      },
      "execution_count": 10,
      "outputs": [
        {
          "output_type": "stream",
          "name": "stdout",
          "text": [
            "\u001b[33m\r0% [Working]\u001b[0m\r            \rHit:1 http://ppa.launchpad.net/c2d4u.team/c2d4u4.0+/ubuntu bionic InRelease\n",
            "\u001b[33m\r0% [Connecting to archive.ubuntu.com (91.189.91.38)] [Connecting to security.ub\u001b[0m\u001b[33m\r0% [1 InRelease gpgv 15.9 kB] [Connecting to archive.ubuntu.com (91.189.91.38)]\u001b[0m\r                                                                               \rHit:2 http://ppa.launchpad.net/cran/libgit2/ubuntu bionic InRelease\n",
            "\u001b[33m\r0% [1 InRelease gpgv 15.9 kB] [Connecting to archive.ubuntu.com (91.189.91.38)]\u001b[0m\r                                                                               \rHit:3 http://ppa.launchpad.net/deadsnakes/ppa/ubuntu bionic InRelease\n",
            "\u001b[33m\r0% [1 InRelease gpgv 15.9 kB] [Connecting to archive.ubuntu.com (91.189.91.38)]\u001b[0m\r                                                                               \rHit:4 http://ppa.launchpad.net/graphics-drivers/ppa/ubuntu bionic InRelease\n",
            "\u001b[33m\r0% [1 InRelease gpgv 15.9 kB] [Connecting to archive.ubuntu.com (91.189.91.38)]\u001b[0m\r                                                                               \rHit:5 http://security.ubuntu.com/ubuntu bionic-security InRelease\n",
            "Hit:6 http://archive.ubuntu.com/ubuntu bionic InRelease\n",
            "Hit:7 https://cloud.r-project.org/bin/linux/ubuntu bionic-cran40/ InRelease\n",
            "Hit:8 http://archive.ubuntu.com/ubuntu bionic-updates InRelease\n",
            "Ign:9 https://developer.download.nvidia.com/compute/machine-learning/repos/ubuntu1804/x86_64  InRelease\n",
            "Hit:10 http://archive.ubuntu.com/ubuntu bionic-backports InRelease\n",
            "Hit:11 https://developer.download.nvidia.com/compute/cuda/repos/ubuntu1804/x86_64  InRelease\n",
            "Hit:12 https://developer.download.nvidia.com/compute/machine-learning/repos/ubuntu1804/x86_64  Release\n",
            "Reading package lists... Done\n",
            "Building dependency tree       \n",
            "Reading state information... Done\n",
            "20 packages can be upgraded. Run 'apt list --upgradable' to see them.\n",
            "Reading package lists... Done\n",
            "Building dependency tree       \n",
            "Reading state information... Done\n",
            "octave is already the newest version (4.2.2-1ubuntu1).\n",
            "The following package was automatically installed and is no longer required:\n",
            "  libnvidia-common-460\n",
            "Use 'apt autoremove' to remove it.\n",
            "0 upgraded, 0 newly installed, 0 to remove and 20 not upgraded.\n"
          ]
        }
      ]
    },
    {
      "cell_type": "code",
      "source": [
        "%%writefile proceso.m\n",
        "empleados = 1000\n",
        "% state vector\n",
        "inicial = [.9; .1]\n",
        "% transition probability matrix\n",
        "A = [.6, .3; .4, .7]\n",
        "[P,D]=eig(A)\n",
        "Dcuadrado = D^2\n",
        "Acuadrado = A^2\n",
        "PxDcuadradoXPinv = P*Dcuadrado*P^-1\n",
        "dia2 = Acuadrado * inicial\n",
        "disp(\"Nº de empleados que se quedan en casa el segundo día: \"), disp(dia2(2)*empleados)\n",
        "D10 = D^10\n",
        "A10 = P*D10*P^-1\n",
        "dia10 = A10 * inicial\n",
        "disp(\"Nº de empleados que se quedan en casa a largo plazo son: \"), disp(dia10(2)*empleados)"
      ],
      "metadata": {
        "colab": {
          "base_uri": "https://localhost:8080/"
        },
        "id": "_dzA8-8yu2K_",
        "outputId": "bd17a58d-baac-4837-b556-83c70a83ec7f"
      },
      "execution_count": 11,
      "outputs": [
        {
          "output_type": "stream",
          "name": "stdout",
          "text": [
            "Writing proceso.m\n"
          ]
        }
      ]
    },
    {
      "cell_type": "code",
      "source": [
        "!octave proceso.m"
      ],
      "metadata": {
        "colab": {
          "base_uri": "https://localhost:8080/"
        },
        "id": "75jT_NgSu4f8",
        "outputId": "616bb19a-f571-4678-97e4-39b0d904b568"
      },
      "execution_count": 12,
      "outputs": [
        {
          "output_type": "stream",
          "name": "stdout",
          "text": [
            "octave: X11 DISPLAY environment variable not set\n",
            "octave: disabling GUI features\n",
            "empleados =  1000\n",
            "inicial =\n",
            "\n",
            "   0.90000\n",
            "   0.10000\n",
            "\n",
            "A =\n",
            "\n",
            "   0.60000   0.30000\n",
            "   0.40000   0.70000\n",
            "\n",
            "P =\n",
            "\n",
            "  -0.70711  -0.60000\n",
            "   0.70711  -0.80000\n",
            "\n",
            "D =\n",
            "\n",
            "Diagonal Matrix\n",
            "\n",
            "   0.30000         0\n",
            "         0   1.00000\n",
            "\n",
            "Dcuadrado =\n",
            "\n",
            "Diagonal Matrix\n",
            "\n",
            "   0.090000          0\n",
            "          0   1.000000\n",
            "\n",
            "Acuadrado =\n",
            "\n",
            "   0.48000   0.39000\n",
            "   0.52000   0.61000\n",
            "\n",
            "PxDcuadradoXPinv =\n",
            "\n",
            "   0.48000   0.39000\n",
            "   0.52000   0.61000\n",
            "\n",
            "dia2 =\n",
            "\n",
            "   0.47100\n",
            "   0.52900\n",
            "\n",
            "Nº de empleados que se quedan en casa el segundo día: \n",
            " 529\n",
            "D10 =\n",
            "\n",
            "Diagonal Matrix\n",
            "\n",
            "   5.9049e-06            0\n",
            "            0   1.0000e+00\n",
            "\n",
            "A10 =\n",
            "\n",
            "   0.42857   0.42857\n",
            "   0.57143   0.57143\n",
            "\n",
            "dia10 =\n",
            "\n",
            "   0.42857\n",
            "   0.57143\n",
            "\n",
            "Nº de empleados que se quedan en casa a largo plazo son: \n",
            " 571.43\n"
          ]
        }
      ]
    },
    {
      "cell_type": "markdown",
      "source": [
        "## Práctica 3.10\n",
        "**Tendencia del mercado**  \n",
        "Resolver con **Python**.\n",
        "\n",
        "En el mercado de automóviles de gran lujo únicamente se disputan la clientela dos marcas (A y B). Las ventas son $M=100.000$ automóviles anuales, no variando esta cifra con el transcurso de los años. La marca A es líder de mercado en este momento con el 75% de las ventas. Sus directivos desean consolidar su liderazgo e incluso aumentarlo, para lo cual todos los años efectúan una fuerte campaña publicitaria con la que consiguen cada año un 40% de los que fueron clientes de su competidora, aunque la empresa A pierde un 20% de sus clientes que se van a la competencia.\n",
        "* ¿Cuál es la situación a los 3 años?\n",
        "* ¿Y al cabo de mucho tiempo?"
      ],
      "metadata": {
        "id": "lllngWn__QP0"
      }
    },
    {
      "cell_type": "markdown",
      "source": [
        "##Solución 3.10"
      ],
      "metadata": {
        "id": "Lhwhh_463d_q"
      }
    },
    {
      "cell_type": "code",
      "source": [
        "import numpy as np\n",
        "\n",
        "X0 = np.array([.75, .25])\n",
        "A = np.array([[.8, .4], [.2 ,.6]])\n",
        "X3 = A@A@A@X0\n",
        "print(\"Situación a los tres años:\", X3)\n",
        "\n",
        "d,P = np.linalg.eig(A)\n",
        "D = np.diag(d)\n",
        "Pinv = np.linalg.inv(P)\n",
        "A10 = P@(D**10)@Pinv\n",
        "X10 = A10@X0\n",
        "print(\"Situación a los diez años:\", X10)\n",
        "print(\"Situación a los veinte años:\", P@(D**20)@Pinv@X0)"
      ],
      "metadata": {
        "colab": {
          "base_uri": "https://localhost:8080/"
        },
        "id": "WVUsKB3V4ACC",
        "outputId": "cf1dd032-34fa-4c85-d718-d5158ea8b66b"
      },
      "execution_count": 16,
      "outputs": [
        {
          "output_type": "stream",
          "name": "stdout",
          "text": [
            "Situación a los tres años: [0.672 0.328]\n",
            "Situación a los diez años: [0.6666754 0.3333246]\n",
            "Situación a los veinte años: [0.66666667 0.33333333]\n"
          ]
        }
      ]
    },
    {
      "cell_type": "code",
      "source": [
        "P@(D**3)@Pinv"
      ],
      "metadata": {
        "colab": {
          "base_uri": "https://localhost:8080/"
        },
        "id": "T7k3wnrd4CDu",
        "outputId": "f5d1e7a0-263b-4647-ade4-36d1220b3fa3"
      },
      "execution_count": 17,
      "outputs": [
        {
          "output_type": "execute_result",
          "data": {
            "text/plain": [
              "array([[0.688, 0.624],\n",
              "       [0.312, 0.376]])"
            ]
          },
          "metadata": {},
          "execution_count": 17
        }
      ]
    },
    {
      "cell_type": "code",
      "source": [
        "P@(D**10)@Pinv"
      ],
      "metadata": {
        "colab": {
          "base_uri": "https://localhost:8080/"
        },
        "id": "Ka31_H6S4EnR",
        "outputId": "9c8ddfb7-d200-421e-ac2b-4876f012c6b9"
      },
      "execution_count": 18,
      "outputs": [
        {
          "output_type": "execute_result",
          "data": {
            "text/plain": [
              "array([[0.66670162, 0.66659676],\n",
              "       [0.33329838, 0.33340324]])"
            ]
          },
          "metadata": {},
          "execution_count": 18
        }
      ]
    }
  ]
}