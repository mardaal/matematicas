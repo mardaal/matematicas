{
  "nbformat": 4,
  "nbformat_minor": 0,
  "metadata": {
    "colab": {
      "provenance": [],
      "include_colab_link": true
    },
    "kernelspec": {
      "name": "python3",
      "display_name": "Python 3"
    },
    "language_info": {
      "name": "python"
    }
  },
  "cells": [
    {
      "cell_type": "markdown",
      "metadata": {
        "id": "view-in-github",
        "colab_type": "text"
      },
      "source": [
        "<a href=\"https://colab.research.google.com/github/mardaal/matematicas/blob/main/combinatoria/practica_combinatoria.ipynb\" target=\"_parent\"><img src=\"https://colab.research.google.com/assets/colab-badge.svg\" alt=\"Open In Colab\"/></a>"
      ]
    },
    {
      "cell_type": "markdown",
      "source": [
        "# Práctica 1. Combinatoria\n",
        "Resuelva los siguientes apartados de la práctica.  \n",
        "La práctica 1.1 se proporciona solucionada para que pueda servir como ejemplo.\n"
      ],
      "metadata": {
        "id": "VP-PLgSCPtPC"
      }
    },
    {
      "cell_type": "markdown",
      "source": [
        "## Práctica 1.1\n",
        "Cuatro amigos:\n",
        "* Antonio (A)\n",
        "* Begoña (B)\n",
        "* Cesar (C)\n",
        "* Diana (D)\n",
        "\n",
        "constituyen una asociación y tienen que asignar los siguientes cargos:\n",
        "* Presiente (1)\n",
        "* Vicepresidente (2)\n",
        "* Secretario (3)\n",
        "* Tesorero (4)\n",
        "\n",
        "Se pide:\n",
        "1. Escribiendo la solución en una celda de Markdown analice el caso indicando si se trata de variaciones, permutaciones o combinaciones, con o sin repetición o el caso que sea, y el motivo para clasificar el caso de esta forma.\n",
        "2. Utilizando fórmulas de $\\LaTeX$ calcule cuántos casos existen.\n",
        "3. Cree un programa en Python para calcule cuántos casos existen.\n",
        "4. Cree un programa en Python para imprimir todas las posibilidades y numérelas. Por ejemplo:\n",
        "    - 1 ABCD\n",
        "    - 2 ABDC\n",
        "    - 3 ACBD\n",
        "    - &#20; &#20; &#20; ... ... ..."
      ],
      "metadata": {
        "id": "6oyoxqfbQJDC"
      }
    },
    {
      "cell_type": "markdown",
      "source": [
        "### Solución 1.1\n",
        "* Estamos ante un caso de **permutaciones sin repetición** ya que:\n",
        " - El orden importa, no es lo mismo estar el nº1 que significa ser presidente que el nº 4 que corresponde al tesorero.\n",
        " - Intervienen todos. Son 4 amigos para 4 cargos, todos tienen cargo, lo que cambiar es el orden, esto es, el cargo que obtengan.\n",
        " - No se repiten elementos. Una persona no puede tener dos cargos simultaneamente.\n",
        "* Los casos que se obtienen con las permutaciones sin repetición son $P_{n}=n!$ que para este ejemplo son:\n",
        "\n",
        "$$P_{4}=4!=4 \\cdot 3 \\cdot 2 \\cdot 1 = 24$$"
      ],
      "metadata": {
        "id": "t5unIqR7jdZR"
      }
    },
    {
      "cell_type": "code",
      "source": [
        "import math\n",
        "p = math.factorial(4)\n",
        "print(\"Los casos son: \", p)\n",
        "print(\"Comprobación:  \", 4*3*2*1)"
      ],
      "metadata": {
        "id": "va3_l_-hmFS-",
        "colab": {
          "base_uri": "https://localhost:8080/"
        },
        "outputId": "a748f0b5-37d2-465f-80d5-b4841d9b851a"
      },
      "execution_count": 1,
      "outputs": [
        {
          "output_type": "stream",
          "name": "stdout",
          "text": [
            "Los casos son:  24\n",
            "Comprobación:   24\n"
          ]
        }
      ]
    },
    {
      "cell_type": "markdown",
      "source": [
        "#### Método 1\n",
        "Sin usar librería."
      ],
      "metadata": {
        "id": "kOM3pEAGnh8v"
      }
    },
    {
      "cell_type": "code",
      "source": [
        "lista = ['A', 'B', 'C', 'D']\n",
        "contador = 1\n",
        "\n",
        "for i in lista:\n",
        "    for j in lista:\n",
        "        for k in lista:\n",
        "            for l in lista:\n",
        "                if i != j and i != k and i != l and j != k and j != l and k != l:\n",
        "                    print(f\"{contador:2d} →  {i+j+k+l}\")\n",
        "                    contador += 1"
      ],
      "metadata": {
        "id": "5--ZpSoJncj3",
        "colab": {
          "base_uri": "https://localhost:8080/"
        },
        "outputId": "30119d62-5e4e-4b5d-f1d1-b61575e4824f"
      },
      "execution_count": 2,
      "outputs": [
        {
          "output_type": "stream",
          "name": "stdout",
          "text": [
            " 1 →  ABCD\n",
            " 2 →  ABDC\n",
            " 3 →  ACBD\n",
            " 4 →  ACDB\n",
            " 5 →  ADBC\n",
            " 6 →  ADCB\n",
            " 7 →  BACD\n",
            " 8 →  BADC\n",
            " 9 →  BCAD\n",
            "10 →  BCDA\n",
            "11 →  BDAC\n",
            "12 →  BDCA\n",
            "13 →  CABD\n",
            "14 →  CADB\n",
            "15 →  CBAD\n",
            "16 →  CBDA\n",
            "17 →  CDAB\n",
            "18 →  CDBA\n",
            "19 →  DABC\n",
            "20 →  DACB\n",
            "21 →  DBAC\n",
            "22 →  DBCA\n",
            "23 →  DCAB\n",
            "24 →  DCBA\n"
          ]
        }
      ]
    },
    {
      "cell_type": "markdown",
      "source": [
        "#### Método 2\n",
        "* Usamos la función `permutations` de la librería `itertools`.\n",
        "* Imprimimos todas las permutaciones de los elementos de una lista."
      ],
      "metadata": {
        "id": "2PoCD5GlnwS1"
      }
    },
    {
      "cell_type": "code",
      "source": [
        "from itertools import permutations\n",
        "\n",
        "perm = permutations(['A','B','C','D'])   # obtenemos todas las permutaciones de la lista \n",
        "\n",
        "for i in list(perm):                     # imprimimos todas las permutaciones \n",
        "    print (*i)                           # con el asterisco se muestran las listas sin corchetes ni comas"
      ],
      "metadata": {
        "id": "eKkB1gQnn6_P",
        "colab": {
          "base_uri": "https://localhost:8080/"
        },
        "outputId": "a3a2dde6-48c5-4a18-e30a-873873765492"
      },
      "execution_count": 3,
      "outputs": [
        {
          "output_type": "stream",
          "name": "stdout",
          "text": [
            "A B C D\n",
            "A B D C\n",
            "A C B D\n",
            "A C D B\n",
            "A D B C\n",
            "A D C B\n",
            "B A C D\n",
            "B A D C\n",
            "B C A D\n",
            "B C D A\n",
            "B D A C\n",
            "B D C A\n",
            "C A B D\n",
            "C A D B\n",
            "C B A D\n",
            "C B D A\n",
            "C D A B\n",
            "C D B A\n",
            "D A B C\n",
            "D A C B\n",
            "D B A C\n",
            "D B C A\n",
            "D C A B\n",
            "D C B A\n"
          ]
        }
      ]
    },
    {
      "cell_type": "markdown",
      "source": [
        "## Práctica 1.2\n",
        "Cuatro amigos:\n",
        "* Antonio (A)\n",
        "* Begoña (B)\n",
        "* Cesar (C)\n",
        "* Diana (D)\n",
        "\n",
        "constituyen una asociación y tienen que asignar los siguientes cargos:\n",
        "* Presiente (1)\n",
        "* Secretario (3)\n",
        "* Tesorero (4)\n",
        "\n",
        "Se pide:\n",
        "1. Escribiendo la solución en una celda de Markdown analice el caso indicando si se trata de variaciones, permutaciones o combinaciones, con o sin repetición o el caso que sea, y el motivo para clasificar el caso de esta forma.\n",
        "2. Utilizando fórmulas de $\\LaTeX$ calcule cuántos casos existen.\n",
        "3. Cree un programa en Python para calcule cuántos casos existen.\n",
        "4. Cree un programa en Python para imprimir todas las posibilidades y numérelas. Por ejemplo:\n",
        "    - 1 ABC\n",
        "    - 2 ABD\n",
        "    - 3 ACB\n",
        "    - &#20; &#20; &#20; ... ... ..."
      ],
      "metadata": {
        "id": "sxSuCpAFSBPJ"
      }
    },
    {
      "cell_type": "markdown",
      "source": [
        "### Solución 1.2\n",
        "* Estamos ante un caso de **variaciones sin repetición** ya que:\n",
        " - Si el cargo de Presidente ya está ocupado, los restantes amigos únicamente pueden aspirar al cargo de Secretario o Tesorero. Si estan ocupados los cargos 1º y 3º los restantes amigos únicamente pueden aspirar a ocupar el cuarto puesto. Al final, un amigo siempre quedará sin cargo.\n",
        " - El orden importa, no es lo mismo que los amigos A, B y C estén en el podium pero con el orden A,B,C que con el orden C,A,B u otro orden, ya que si importa a quién se le ha asignado cada puesto.\n",
        " - Son sin repetición ya que un amigo no puede obtener dos cargos simultáneamente.\n",
        "* Los casos que se obtienen con las variaciones sin repetición son $ V_{n,k}=\\frac{n!}{(n-k)!} $ que para este ejemplo son:\n",
        "\n",
        "$$ V_{4,3}=\\frac {4!}{(4-3)!} =\\frac{4!}{1!} =4! = 4 \\cdot 3 \\cdot 2 \\cdot 1 = 24 $$"
      ],
      "metadata": {
        "id": "V7Ho46quwHqi"
      }
    },
    {
      "cell_type": "code",
      "source": [
        "import math \n",
        "v = math.factorial(4)\n",
        "print('Los casos son: ', v)\n",
        "print('Comprobación: ', 4*3*2*1)"
      ],
      "metadata": {
        "colab": {
          "base_uri": "https://localhost:8080/"
        },
        "id": "S1smWL7v3-z8",
        "outputId": "97903a7c-97e9-44c1-cf53-7a4ad9bd8b39"
      },
      "execution_count": 14,
      "outputs": [
        {
          "output_type": "stream",
          "name": "stdout",
          "text": [
            "Los casos son:  24\n",
            "Comprobación:  24\n"
          ]
        }
      ]
    },
    {
      "cell_type": "markdown",
      "source": [
        "### Método"
      ],
      "metadata": {
        "id": "_0VFjnBm4-mj"
      }
    },
    {
      "cell_type": "code",
      "source": [
        "import itertools\n",
        "it = itertools.permutations(['A','B','C','D'],3)\n",
        "li = list(it)\n",
        "\n",
        "print()\n",
        "\n",
        "for i in range(len(li)):\n",
        "    print(f\"Variación {i+1:2d}: \", *li[i])"
      ],
      "metadata": {
        "colab": {
          "base_uri": "https://localhost:8080/"
        },
        "id": "FdAGiT5t5HUj",
        "outputId": "560103ba-f653-4442-f615-b2a2462f1d11"
      },
      "execution_count": 13,
      "outputs": [
        {
          "output_type": "stream",
          "name": "stdout",
          "text": [
            "\n",
            "Variación  1:  A B C\n",
            "Variación  2:  A B D\n",
            "Variación  3:  A C B\n",
            "Variación  4:  A C D\n",
            "Variación  5:  A D B\n",
            "Variación  6:  A D C\n",
            "Variación  7:  B A C\n",
            "Variación  8:  B A D\n",
            "Variación  9:  B C A\n",
            "Variación 10:  B C D\n",
            "Variación 11:  B D A\n",
            "Variación 12:  B D C\n",
            "Variación 13:  C A B\n",
            "Variación 14:  C A D\n",
            "Variación 15:  C B A\n",
            "Variación 16:  C B D\n",
            "Variación 17:  C D A\n",
            "Variación 18:  C D B\n",
            "Variación 19:  D A B\n",
            "Variación 20:  D A C\n",
            "Variación 21:  D B A\n",
            "Variación 22:  D B C\n",
            "Variación 23:  D C A\n",
            "Variación 24:  D C B\n"
          ]
        }
      ]
    },
    {
      "cell_type": "markdown",
      "source": [
        "## Práctica 1.3\n",
        "Invente un caso de **variaciones sin repetición**.\n",
        "Se pide contestar a los mismos puntos que el caso anterior."
      ],
      "metadata": {
        "id": "D0S1DjF4MKmz"
      }
    },
    {
      "cell_type": "markdown",
      "source": [
        "### Solución 1.3\n",
        "¿Cuántos números de cuatro cifras (todas distintas) se pueden formar con los números 1, 2, 3, 4, 5?\n",
        "\n",
        "* Estamos ante un caso de **variaciones sin repetición** ya que:\n",
        " - No intervienen todos los elementos. Solo tomaremos cuatro de las cinco númerospara realizar las combinaciones.\n",
        " - El orden importa ya que no es lo mismo 124 que 421.\n",
        " - Son sin repetición ya que si un número es utilizado, queda descartado. Esto sucede porque todas las cifras deben ser distintas.\n",
        "* Los casos que se obtienen con las variaciones sin repetición son $ V_{n,k}=\\frac{n!}{(n-k)!} $ que para este ejemplo son:\n",
        "\n",
        "$$ V_{5,4}=\\frac {5!}{(5-4)!} =\\frac{5!}{1!} =5! = 5 \\cdot 4 \\cdot 3 \\cdot 2 \\cdot1 = 120 $$"
      ],
      "metadata": {
        "id": "as0v50a39vOY"
      }
    },
    {
      "cell_type": "code",
      "source": [
        "import math \n",
        "v = math.factorial(5)\n",
        "print('Los casos son: ', v)\n",
        "print('Comprobación: ', 5*4*3*2*1)"
      ],
      "metadata": {
        "colab": {
          "base_uri": "https://localhost:8080/"
        },
        "id": "Bp19H4qyIqPV",
        "outputId": "8c46663e-303e-486c-9568-cee781d8c6b4"
      },
      "execution_count": 15,
      "outputs": [
        {
          "output_type": "stream",
          "name": "stdout",
          "text": [
            "Los casos son:  120\n",
            "Comprobación:  120\n"
          ]
        }
      ]
    },
    {
      "cell_type": "code",
      "source": [
        "import itertools\n",
        "it = itertools.permutations(['1','2','3','4','5'],4)\n",
        "li = list(it)\n",
        "\n",
        "print()\n",
        "\n",
        "for i in range(len(li)):\n",
        "    print(f\"Variación {i+1:2d}: \", *li[i])"
      ],
      "metadata": {
        "colab": {
          "base_uri": "https://localhost:8080/"
        },
        "id": "uNCnr4J6I7CE",
        "outputId": "eb12acf9-d90c-4896-efb2-8daee253ec3c"
      },
      "execution_count": 19,
      "outputs": [
        {
          "output_type": "stream",
          "name": "stdout",
          "text": [
            "\n",
            "Variación  1:  1 2 3 4\n",
            "Variación  2:  1 2 3 5\n",
            "Variación  3:  1 2 4 3\n",
            "Variación  4:  1 2 4 5\n",
            "Variación  5:  1 2 5 3\n",
            "Variación  6:  1 2 5 4\n",
            "Variación  7:  1 3 2 4\n",
            "Variación  8:  1 3 2 5\n",
            "Variación  9:  1 3 4 2\n",
            "Variación 10:  1 3 4 5\n",
            "Variación 11:  1 3 5 2\n",
            "Variación 12:  1 3 5 4\n",
            "Variación 13:  1 4 2 3\n",
            "Variación 14:  1 4 2 5\n",
            "Variación 15:  1 4 3 2\n",
            "Variación 16:  1 4 3 5\n",
            "Variación 17:  1 4 5 2\n",
            "Variación 18:  1 4 5 3\n",
            "Variación 19:  1 5 2 3\n",
            "Variación 20:  1 5 2 4\n",
            "Variación 21:  1 5 3 2\n",
            "Variación 22:  1 5 3 4\n",
            "Variación 23:  1 5 4 2\n",
            "Variación 24:  1 5 4 3\n",
            "Variación 25:  2 1 3 4\n",
            "Variación 26:  2 1 3 5\n",
            "Variación 27:  2 1 4 3\n",
            "Variación 28:  2 1 4 5\n",
            "Variación 29:  2 1 5 3\n",
            "Variación 30:  2 1 5 4\n",
            "Variación 31:  2 3 1 4\n",
            "Variación 32:  2 3 1 5\n",
            "Variación 33:  2 3 4 1\n",
            "Variación 34:  2 3 4 5\n",
            "Variación 35:  2 3 5 1\n",
            "Variación 36:  2 3 5 4\n",
            "Variación 37:  2 4 1 3\n",
            "Variación 38:  2 4 1 5\n",
            "Variación 39:  2 4 3 1\n",
            "Variación 40:  2 4 3 5\n",
            "Variación 41:  2 4 5 1\n",
            "Variación 42:  2 4 5 3\n",
            "Variación 43:  2 5 1 3\n",
            "Variación 44:  2 5 1 4\n",
            "Variación 45:  2 5 3 1\n",
            "Variación 46:  2 5 3 4\n",
            "Variación 47:  2 5 4 1\n",
            "Variación 48:  2 5 4 3\n",
            "Variación 49:  3 1 2 4\n",
            "Variación 50:  3 1 2 5\n",
            "Variación 51:  3 1 4 2\n",
            "Variación 52:  3 1 4 5\n",
            "Variación 53:  3 1 5 2\n",
            "Variación 54:  3 1 5 4\n",
            "Variación 55:  3 2 1 4\n",
            "Variación 56:  3 2 1 5\n",
            "Variación 57:  3 2 4 1\n",
            "Variación 58:  3 2 4 5\n",
            "Variación 59:  3 2 5 1\n",
            "Variación 60:  3 2 5 4\n",
            "Variación 61:  3 4 1 2\n",
            "Variación 62:  3 4 1 5\n",
            "Variación 63:  3 4 2 1\n",
            "Variación 64:  3 4 2 5\n",
            "Variación 65:  3 4 5 1\n",
            "Variación 66:  3 4 5 2\n",
            "Variación 67:  3 5 1 2\n",
            "Variación 68:  3 5 1 4\n",
            "Variación 69:  3 5 2 1\n",
            "Variación 70:  3 5 2 4\n",
            "Variación 71:  3 5 4 1\n",
            "Variación 72:  3 5 4 2\n",
            "Variación 73:  4 1 2 3\n",
            "Variación 74:  4 1 2 5\n",
            "Variación 75:  4 1 3 2\n",
            "Variación 76:  4 1 3 5\n",
            "Variación 77:  4 1 5 2\n",
            "Variación 78:  4 1 5 3\n",
            "Variación 79:  4 2 1 3\n",
            "Variación 80:  4 2 1 5\n",
            "Variación 81:  4 2 3 1\n",
            "Variación 82:  4 2 3 5\n",
            "Variación 83:  4 2 5 1\n",
            "Variación 84:  4 2 5 3\n",
            "Variación 85:  4 3 1 2\n",
            "Variación 86:  4 3 1 5\n",
            "Variación 87:  4 3 2 1\n",
            "Variación 88:  4 3 2 5\n",
            "Variación 89:  4 3 5 1\n",
            "Variación 90:  4 3 5 2\n",
            "Variación 91:  4 5 1 2\n",
            "Variación 92:  4 5 1 3\n",
            "Variación 93:  4 5 2 1\n",
            "Variación 94:  4 5 2 3\n",
            "Variación 95:  4 5 3 1\n",
            "Variación 96:  4 5 3 2\n",
            "Variación 97:  5 1 2 3\n",
            "Variación 98:  5 1 2 4\n",
            "Variación 99:  5 1 3 2\n",
            "Variación 100:  5 1 3 4\n",
            "Variación 101:  5 1 4 2\n",
            "Variación 102:  5 1 4 3\n",
            "Variación 103:  5 2 1 3\n",
            "Variación 104:  5 2 1 4\n",
            "Variación 105:  5 2 3 1\n",
            "Variación 106:  5 2 3 4\n",
            "Variación 107:  5 2 4 1\n",
            "Variación 108:  5 2 4 3\n",
            "Variación 109:  5 3 1 2\n",
            "Variación 110:  5 3 1 4\n",
            "Variación 111:  5 3 2 1\n",
            "Variación 112:  5 3 2 4\n",
            "Variación 113:  5 3 4 1\n",
            "Variación 114:  5 3 4 2\n",
            "Variación 115:  5 4 1 2\n",
            "Variación 116:  5 4 1 3\n",
            "Variación 117:  5 4 2 1\n",
            "Variación 118:  5 4 2 3\n",
            "Variación 119:  5 4 3 1\n",
            "Variación 120:  5 4 3 2\n"
          ]
        }
      ]
    },
    {
      "cell_type": "markdown",
      "source": [
        "## Práctica 1.4\n",
        "Invente un caso de **variaciones con repetición**.\n",
        "Se pide contestar a los mismos puntos que el caso anterior.\n"
      ],
      "metadata": {
        "id": "gvlnqCaRMTua"
      }
    },
    {
      "cell_type": "markdown",
      "source": [
        "### Solución 1.4\n",
        " ¿Cuántos números de dos cifras se pueden formar con los dígitos: 1, 2, 3, 4, 5 ?\n",
        "* Estamos ante un caso de **variaciones con repetición** ya que:\n",
        " - No intervienen todos los elementos. Solo tomaremos dos o uno de los cinco números para realizar las combinaciones.\n",
        " - El orden importa ya que no es lo mismo 12 que 21.\n",
        " - Son con repetición ya que un número puede ser tomado dos veces para formar el dígito con dos cifras, por ejemplo 33.\n",
        "* Los casos que se obtienen con las variaciones con repetición son $  VR^k_n=n^k $ que para este ejemplo son:\n",
        "\n",
        "$$ VR^2_5= 5^2=25 $$"
      ],
      "metadata": {
        "id": "hzvsgRDbkCy1"
      }
    },
    {
      "cell_type": "code",
      "source": [
        "numero = 5\n",
        "elevado = 5 ** 2\n",
        "print('Los casos son: ', elevado)\n",
        "print('Comprobación: ', 5*5)"
      ],
      "metadata": {
        "colab": {
          "base_uri": "https://localhost:8080/"
        },
        "id": "WmdLvEjxS0bT",
        "outputId": "214fb9bb-d052-4600-b9b9-2a9348f8a4ad"
      },
      "execution_count": 44,
      "outputs": [
        {
          "output_type": "stream",
          "name": "stdout",
          "text": [
            "Los casos son:  25\n",
            "Comprobación:  25\n"
          ]
        }
      ]
    },
    {
      "cell_type": "code",
      "source": [
        "import itertools \n",
        "\n",
        "def variaciones_con_repeticion(n, seq):\n",
        "      contador=0\n",
        "      for p in itertools.product(seq, repeat=n):\n",
        "            contador+= 1\n",
        "            print(contador, \"\".join(p))\n",
        "\n",
        "secuencia = '12345'\n",
        "m= len(secuencia)\n",
        "n= 2\n",
        "variaciones_con_repeticion(n,secuencia)\n",
        "\n",
        "print(f\"El número de variaciones con repetición de {m} elementos tomados de {n} en {n} son {m**n}\")\n",
        "  \n"
      ],
      "metadata": {
        "colab": {
          "base_uri": "https://localhost:8080/"
        },
        "id": "xmrcu9k1TxpH",
        "outputId": "b2d75a3c-9708-48df-c691-6037ce26f035"
      },
      "execution_count": 47,
      "outputs": [
        {
          "output_type": "stream",
          "name": "stdout",
          "text": [
            "1 11\n",
            "2 12\n",
            "3 13\n",
            "4 14\n",
            "5 15\n",
            "6 21\n",
            "7 22\n",
            "8 23\n",
            "9 24\n",
            "10 25\n",
            "11 31\n",
            "12 32\n",
            "13 33\n",
            "14 34\n",
            "15 35\n",
            "16 41\n",
            "17 42\n",
            "18 43\n",
            "19 44\n",
            "20 45\n",
            "21 51\n",
            "22 52\n",
            "23 53\n",
            "24 54\n",
            "25 55\n",
            "El número de variaciones con repetición de 5 elementos tomados de 2 en 2 son 25\n"
          ]
        }
      ]
    },
    {
      "cell_type": "markdown",
      "source": [
        "## Práctica 1.5\n",
        "Invente un caso de **permutaciones sin repetición**.\n",
        "Se pide contestar a los mismos puntos que el caso anterior."
      ],
      "metadata": {
        "id": "0OCAC-I-G5F6"
      }
    },
    {
      "cell_type": "markdown",
      "source": [
        "### Solución 1.5\n",
        "Tres hermanas: \n",
        " * Ana     (A)\n",
        " * Bárbara (B)\n",
        " * Camila  (C)\n",
        "\n",
        "Se quieren disponer en una mesa con 3 sillas ¿Cuáles son las maneras posibles?\n",
        "\n",
        "Estamos ante un caso de **permutaciones sin repetición** ya que:\n",
        " - El orden importa, no es lo mismo estar en la silla nº1, que en la silla nº2.\n",
        " - Intervienen todas. Son 3 hermanas para 3 sillas, todas tienen un puesto.\n",
        " - No se repiten elementos. Una hermana no se puede sentar en dos sillas al mismo tiempo\n",
        "* Los casos que se obtienen con las permutaciones sin repetición son $P_{n}=n!$ que para este ejemplo son:\n",
        "\n",
        "$$ P_{3}=3!= 3 \\cdot 2 \\cdot 1 = 6 $$"
      ],
      "metadata": {
        "id": "FvLcj6XXkFOV"
      }
    },
    {
      "cell_type": "code",
      "source": [
        "import math\n",
        "p = math.factorial(3)\n",
        "print(\"Los casos son: \", p)\n",
        "print(\"Comprobación:  \",3*2*1)"
      ],
      "metadata": {
        "colab": {
          "base_uri": "https://localhost:8080/"
        },
        "id": "FU0b50dnmOeV",
        "outputId": "ec7e82a6-9052-475b-b83f-a3e58583b806"
      },
      "execution_count": 49,
      "outputs": [
        {
          "output_type": "stream",
          "name": "stdout",
          "text": [
            "Los casos son:  6\n",
            "Comprobación:   6\n"
          ]
        }
      ]
    },
    {
      "cell_type": "code",
      "source": [
        "lista = ['A', 'B', 'C']\n",
        "contador = 1\n",
        "\n",
        "for i in lista:\n",
        "    for j in lista:\n",
        "        for k in lista:\n",
        "           \n",
        "                if i != j and i != k and j != k :\n",
        "                    print(f\"{contador:2d} →  {i+j+k}\")\n",
        "                    contador += 1"
      ],
      "metadata": {
        "colab": {
          "base_uri": "https://localhost:8080/"
        },
        "id": "1TNHnBVNmr9Y",
        "outputId": "0ddbc766-45eb-4ca9-cce8-a5208a78b32b"
      },
      "execution_count": 63,
      "outputs": [
        {
          "output_type": "stream",
          "name": "stdout",
          "text": [
            " 1 →  ABC\n",
            " 2 →  ACB\n",
            " 3 →  BAC\n",
            " 4 →  BCA\n",
            " 5 →  CAB\n",
            " 6 →  CBA\n"
          ]
        }
      ]
    },
    {
      "cell_type": "markdown",
      "source": [
        "## Práctica 1.6\n",
        "Invente un caso de **permutaciones con repetición**.\n",
        "Se pide contestar a los mismos puntos que el caso anterior."
      ],
      "metadata": {
        "id": "YWUXIczqLj3W"
      }
    },
    {
      "cell_type": "markdown",
      "source": [
        "### Solución 1.6\n",
        "¿Cuántas palabras se pueden escribir con la palabra papa tengan o no significado?\n",
        "* Estamos ante un caso de **permutaciones con repetición** ya que:\n",
        " - El orden importa, no es lo mismo estar en la posición  nº1 que en la posición nº2.\n",
        " - Intervienen todos los elementos.\n",
        " - Si se repiten elementos.\n",
        "* Los casos que se obtienen con las permutaciones con repetición son:\n",
        "\n",
        "$$PR^{2,2}_6=\\frac{4!}{2! \\cdot 2!}= 6$$\n",
        "\n"
      ],
      "metadata": {
        "id": "siAxWVVekHs6"
      }
    },
    {
      "cell_type": "code",
      "source": [
        "from math import factorial\n",
        "print(f\"Los casos que se obtienen son {int(factorial(4)/factorial(2)/factorial(2))}\")"
      ],
      "metadata": {
        "colab": {
          "base_uri": "https://localhost:8080/"
        },
        "id": "Qub-BMQvxKC6",
        "outputId": "78bb55d2-90f1-4130-fa18-d8fb3d637cf2"
      },
      "execution_count": 162,
      "outputs": [
        {
          "output_type": "stream",
          "name": "stdout",
          "text": [
            "Los casos que se obtienen son 6\n"
          ]
        }
      ]
    },
    {
      "cell_type": "code",
      "source": [
        "from itertools import permutations \n",
        "\n",
        "p = permutations (\"PAPA\") \n",
        "lista = [''.join(i) for i in p]\n",
        "conjunto = set (lista)\n",
        "ordenada = list(conjunto)\n",
        "ordenada.sort()\n",
        "print(ordenada)\n",
        "print(f\"El número de casos obtenido es: {len(ordenada)}\")  \n"
      ],
      "metadata": {
        "colab": {
          "base_uri": "https://localhost:8080/"
        },
        "id": "vd6295ETnKha",
        "outputId": "f3c70838-2e2e-4e4d-c2a2-50ae7cbfe494"
      },
      "execution_count": 167,
      "outputs": [
        {
          "output_type": "stream",
          "name": "stdout",
          "text": [
            "['AAPP', 'APAP', 'APPA', 'PAAP', 'PAPA', 'PPAA']\n",
            "El número de casos obtenido es: 6\n"
          ]
        }
      ]
    },
    {
      "cell_type": "markdown",
      "source": [
        "## Práctica 1.7\n",
        "Invente un caso de **combinaciones sin repetición**.\n",
        "Se pide contestar a los mismos puntos que el caso anterior."
      ],
      "metadata": {
        "id": "opCrIDtJGg1R"
      }
    },
    {
      "cell_type": "markdown",
      "source": [
        "### Solución 1.7\n",
        "Un niño decide merendar dos porciones de tarta de distintos sabores y están disponibles los siguientes sabores:\n",
        "* Fresa (F)\n",
        "* Chocolate (C)\n",
        "* Vainilla (V)\n",
        "* Limón (L)\n",
        "* Zanahoria (Z)\n",
        "* Melocotón (M)\n",
        "* Nutella (N)\n",
        "\n",
        "\n",
        "¿De cuantas maneras diferentes puede escoger dos sabores?\n",
        "\n",
        "* Estamos ante un caso de **combinaciones sin repetición** ya que:\n",
        " - El orden no importa, no es relevante el orden en el que se escogen ya que es lo mismo escoger una porción de fresa y una de chocolate a que una de chocolate y una de fresa.\n",
        " - No intervienen todos. Son 7 sabores y solo 2 pueden ser elegidos.\n",
        " - No se repiten elementos. El niño no puede escoger el mismo sabor dos veces.\n",
        "* Los casos que se obtienen con las combinaciones sin repetición son  $ C^k_n = \\frac{V^k_n}{P_k} $ que para este ejemplo son:\n",
        " (Combinaciones de 9 elementos tomados de 3 en 3)\n",
        "\n",
        "$$ C_{7,2} = \\binom{7}{2} =\\frac{7!}{2!(7-2)!} = \\frac{7!}{2! \\cdot 5!} = 21$$"
      ],
      "metadata": {
        "id": "Zs46BsRnkJcl"
      }
    },
    {
      "cell_type": "code",
      "source": [
        "from math import factorial\n",
        "print(f\"Los casos que se obtienen son {int(factorial(7)/factorial(2)/factorial(7-2))}\")"
      ],
      "metadata": {
        "colab": {
          "base_uri": "https://localhost:8080/"
        },
        "id": "_4A8hRTCyAwF",
        "outputId": "bc204eca-4bfb-4f43-c195-df596cd52144"
      },
      "execution_count": 114,
      "outputs": [
        {
          "output_type": "stream",
          "name": "stdout",
          "text": [
            "Los casos que se obtienen son 21\n"
          ]
        }
      ]
    },
    {
      "cell_type": "code",
      "source": [
        "from itertools import combinations\n",
        "\n",
        "Sabores = [\"Fresa \",\"Chocolate \",\"Vainilla \",\"Limón \",\"Zanahoria \",\"Melocotón \",\"Nutella \",]\n",
        "\n",
        "n = 0\n",
        "combi = []\n",
        "\n",
        "while n < len(Sabores):\n",
        "    for i in Sabores:\n",
        "        for g in Sabores:\n",
        "            if i != g and g + i not in combi:\n",
        "                c = i + g\n",
        "                combi.append(c)\n",
        "                n += 1\n",
        "                print (n,c)\n",
        "  "
      ],
      "metadata": {
        "colab": {
          "base_uri": "https://localhost:8080/"
        },
        "id": "UACwKBT8yN0e",
        "outputId": "7f098e2d-2c84-4242-aa94-008c41b07171"
      },
      "execution_count": 121,
      "outputs": [
        {
          "output_type": "stream",
          "name": "stdout",
          "text": [
            "1 Fresa Chocolate \n",
            "2 Fresa Vainilla \n",
            "3 Fresa Limón \n",
            "4 Fresa Zanahoria \n",
            "5 Fresa Melocotón \n",
            "6 Fresa Nutella \n",
            "7 Chocolate Vainilla \n",
            "8 Chocolate Limón \n",
            "9 Chocolate Zanahoria \n",
            "10 Chocolate Melocotón \n",
            "11 Chocolate Nutella \n",
            "12 Vainilla Limón \n",
            "13 Vainilla Zanahoria \n",
            "14 Vainilla Melocotón \n",
            "15 Vainilla Nutella \n",
            "16 Limón Zanahoria \n",
            "17 Limón Melocotón \n",
            "18 Limón Nutella \n",
            "19 Zanahoria Melocotón \n",
            "20 Zanahoria Nutella \n",
            "21 Melocotón Nutella \n"
          ]
        }
      ]
    },
    {
      "cell_type": "markdown",
      "source": [
        "## Práctica 1.8\n",
        "Invente un caso de **combinaciones con repetición**.\n",
        "Se pide contestar a los mismos puntos que el caso anterior."
      ],
      "metadata": {
        "id": "-7Y5WWlDGzAR"
      }
    },
    {
      "cell_type": "markdown",
      "source": [
        "### Solución 1.8\n",
        "Una pizzería ofrece seis ingredientes para añadir a una base de mozzarella y tomate:\n",
        "* Jamón\n",
        "* Bacon\n",
        "* Maíz\n",
        "* Pepperoni\n",
        "* Anchoa\n",
        "* Cebolla\n",
        "\n",
        "Si la oferta consiste en añadir dos ingredientes, ¿cuántas pizzas diferentes se pueden elaborar?\n",
        "Estamos ante un caso de **combinaciones con repetición** ya que:\n",
        " - El orden no importa, no es relevante el orden en el que se escogen los ingredientes, es lo mismo si escogemos bacon, cebolla, que cebolla y bacon.\n",
        " - No intervienen todos. Son 6 ingradientes y solo 2 pueden ser elegidos.\n",
        " - Si se repiten elementos. La persona puede escoger dos veces el mismo ingrediente.\n",
        "\n",
        "Los casos que se obtienen con las combinaciones sin repetición son  $ CR^k_n =  \\binom{n+k-1}{k} $ que para este ejemplo son:\n",
        "$$ CR_{6,2} = \\binom{6+2-1}{2} = \\frac{(6+2-1)!}{2!\\cdot (6-1)!} = \\frac{7!}{ 2! \\cdot 5! } = 21$$\n",
        "\n"
      ],
      "metadata": {
        "id": "ReRULqd8kL1F"
      }
    },
    {
      "cell_type": "code",
      "source": [
        "from math import factorial\n",
        "print(f\"Los casos que se obtienen son {int(factorial(7)/factorial(2)/factorial(5))}\")"
      ],
      "metadata": {
        "colab": {
          "base_uri": "https://localhost:8080/"
        },
        "id": "FfnQ2rkRevsu",
        "outputId": "ff4c1ede-a766-4b26-8fbb-e9d1fbd114ca"
      },
      "execution_count": 125,
      "outputs": [
        {
          "output_type": "stream",
          "name": "stdout",
          "text": [
            "Los casos que se obtienen son 21\n"
          ]
        }
      ]
    },
    {
      "cell_type": "code",
      "source": [
        "from itertools import combinations\n",
        "\n",
        "ingredientes = [\"Jamón \",\"Bacon \",\"Maíz \",\"Pepperoni \",\"Anchoa \",\"Cebolla \"]\n",
        "\n",
        "n = 0\n",
        "combi = []\n",
        "\n",
        "while n < len(ingredientes):\n",
        "    for i in ingredientes:\n",
        "        for g in ingredientes:\n",
        "            if  g + i not in combi:\n",
        "                c = i + g\n",
        "                combi.append(c)\n",
        "                n += 1\n",
        "                print (n,c)"
      ],
      "metadata": {
        "colab": {
          "base_uri": "https://localhost:8080/"
        },
        "id": "3KWKWF1GfRim",
        "outputId": "7c94a18d-b032-45a0-c0f8-741f30358203"
      },
      "execution_count": 142,
      "outputs": [
        {
          "output_type": "stream",
          "name": "stdout",
          "text": [
            "1 Jamón Jamón \n",
            "2 Jamón Bacon \n",
            "3 Jamón Maíz \n",
            "4 Jamón Pepperoni \n",
            "5 Jamón Anchoa \n",
            "6 Jamón Cebolla \n",
            "7 Bacon Bacon \n",
            "8 Bacon Maíz \n",
            "9 Bacon Pepperoni \n",
            "10 Bacon Anchoa \n",
            "11 Bacon Cebolla \n",
            "12 Maíz Maíz \n",
            "13 Maíz Pepperoni \n",
            "14 Maíz Anchoa \n",
            "15 Maíz Cebolla \n",
            "16 Pepperoni Pepperoni \n",
            "17 Pepperoni Anchoa \n",
            "18 Pepperoni Cebolla \n",
            "19 Anchoa Anchoa \n",
            "20 Anchoa Cebolla \n",
            "21 Cebolla Cebolla \n"
          ]
        }
      ]
    },
    {
      "cell_type": "markdown",
      "source": [
        "## Práctica 1.9\n",
        "En el gobierno se crea una unidad de crisis formada por el presidente (P) y 4 ministros (A,B,C,D) que se reúnen sentados alrededor de una **mesa redonda**.\n",
        "\n",
        "Se pide:  \n",
        "1. Calcule de cuantas formas pueden llegar a sentarse si el ministro de defensa (D) siempre ha de estar al lado del presidente (P). Escriba la solución en una celda de Markdown utilizando fórmulas en $\\LaTeX$  explicando el caso.\n",
        "2. Cree un programa en Python para calcular el número de casos que se pueden dar al sentarse en la mesa.\n",
        "3. Cree un programa en Python para imprimir todas las posibilidades y numérelas. Por ejemplo:\n",
        "    - 1 PDABC\n",
        "    - 2 PDACB\n",
        "    - 3 PDBCD\n",
        "    - 4 PDBDC\n",
        "    - 5 PDCAB\n",
        "    - 6 PDCBA\n",
        "    - 7 DPABC\n",
        "    - 8 DPACB\n",
        "    - &#20; &#20; &#20; ... ... ...\n"
      ],
      "metadata": {
        "id": "SOzxh_YgHnDG"
      }
    },
    {
      "cell_type": "code",
      "source": [
        "from itertools import permutations\n",
        "\n",
        "p = list(permutations('ABC'))   \n",
        "\n",
        "\n",
        "texto = ''   \n",
        "\n",
        "for v in p:\n",
        "\n",
        "    texto += 'PD' + ''.join(v) + ','   \n",
        "\n",
        "for v in p:\n",
        "\n",
        "    texto += 'DP' + ''.join(v) + ',' \n",
        "\n",
        "\n",
        "\n",
        "print(texto[:-1])   "
      ],
      "metadata": {
        "colab": {
          "base_uri": "https://localhost:8080/"
        },
        "id": "Gj0OLk1-BjEj",
        "outputId": "878a0fab-be40-471f-899c-cb00f3c3c538"
      },
      "execution_count": 172,
      "outputs": [
        {
          "output_type": "stream",
          "name": "stdout",
          "text": [
            "PDABC,PDACB,PDBAC,PDBCA,PDCAB,PDCBA,DPABC,DPACB,DPBAC,DPBCA,DPCAB,DPCBA\n"
          ]
        }
      ]
    },
    {
      "cell_type": "markdown",
      "source": [],
      "metadata": {
        "id": "F8kV034OkQZX"
      }
    },
    {
      "cell_type": "markdown",
      "source": [
        "## Práctica 1.10\n",
        "* Realice una breve explicación teórica del **triángulo de Pascal**, o también llamado triángulo de Tartaglia, y de las fórmulas de los números combinatorios.\n",
        "* Cree un programa en Python para hacer el triángulo de Pascal."
      ],
      "metadata": {
        "id": "eiHdMOP-MkrZ"
      }
    },
    {
      "cell_type": "markdown",
      "source": [
        "### Solución 1.10\n"
      ],
      "metadata": {
        "id": "j0UT2579kTSM"
      }
    },
    {
      "cell_type": "code",
      "source": [
        "num = int(input(\"Enter the number of rows:\"))\n",
        "\n",
        "for n in range(num):\n",
        "    print(' '*(num-n), end='')\n",
        "\n",
        "    print(' '.join(map(str, str(11**n))))"
      ],
      "metadata": {
        "colab": {
          "base_uri": "https://localhost:8080/"
        },
        "id": "rqQiKw6_l9uQ",
        "outputId": "887807ba-966f-4529-fa6d-7755e6716d11"
      },
      "execution_count": 144,
      "outputs": [
        {
          "output_type": "stream",
          "name": "stdout",
          "text": [
            "Enter the number of rows:5\n",
            "     1\n",
            "    1 1\n",
            "   1 2 1\n",
            "  1 3 3 1\n",
            " 1 4 6 4 1\n"
          ]
        }
      ]
    }
  ]
}