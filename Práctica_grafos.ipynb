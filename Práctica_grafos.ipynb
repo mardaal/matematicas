{
  "nbformat": 4,
  "nbformat_minor": 0,
  "metadata": {
    "colab": {
      "provenance": [],
      "collapsed_sections": [],
      "include_colab_link": true
    },
    "kernelspec": {
      "name": "python3",
      "display_name": "Python 3"
    },
    "language_info": {
      "name": "python"
    }
  },
  "cells": [
    {
      "cell_type": "markdown",
      "metadata": {
        "id": "view-in-github",
        "colab_type": "text"
      },
      "source": [
        "<a href=\"https://colab.research.google.com/github/mardaal/matematicas/blob/main/Pr%C3%A1ctica_grafos.ipynb\" target=\"_parent\"><img src=\"https://colab.research.google.com/assets/colab-badge.svg\" alt=\"Open In Colab\"/></a>"
      ]
    },
    {
      "cell_type": "markdown",
      "source": [
        "# Práctica 2. Grafos"
      ],
      "metadata": {
        "id": "s28_pETXts4V"
      }
    },
    {
      "cell_type": "markdown",
      "source": [
        "## Práctica 2.1\n",
        "\n",
        "*   Elemento de la lista\n",
        "*   Elemento de la lista\n",
        "\n",
        "\n",
        "**Algoritmo de Dijkstra**\n",
        "\n",
        "1. Mira estos vídeos:\n",
        " * [Algoritmo de DIJKSTRA ruta corta](https://youtu.be/6rl0ghgPfK0)\n",
        " * [Ruta mas corta en una red, algoritmo de Dijkstra](https://youtu.be/rh02c7v3EKY)\n",
        "2. ¿Qué utilidad tiene el algoritmo?\n",
        "3. Explique el algoritmo.\n",
        "4. De un ejemplo de un grafo resuelto con el algoritmo de Dijkstra.\n",
        "* Muestre la imagen del grafo con sus:\n",
        "  - nodos\n",
        "  - aristas (con flecha si son orientadas)\n",
        "  - pesos (distancias o costes)\n",
        "* Muestre nuevamente la imagen del grafo pero en esta ocasión con la solución."
      ],
      "metadata": {
        "id": "6Gr8mAWDxCdq"
      }
    },
    {
      "cell_type": "markdown",
      "source": [
        "## Solución 2.1\n",
        "* **¿Qué utilidad tiene el algoritmo?**\n",
        " - El algoritmo tiene como utilidad encontar en camino mas corto o con coste mas bajo desde un nodo inicial hasta el resto de nodos de un grafo.\n",
        "* **Explique el algoritmo.**\n",
        "La idea principal en este algoritmo consiste en ir explorando todos los caminos más cortos que parten del origen del vértice y que llevan a todos los demás vértices; cuando se obtiene el camino más corto desde el origen del vértice hasta el resto de los vértices que componen el grafo, el algoritmo se detiene.\n",
        "\n",
        "\n",
        "* **De un ejemplo de un grafo resuelto con el algoritmo de Dijkstra.**\n",
        "\n",
        "\n",
        "<img src=\"https://www.ingenieriaindustrialonline.com/wp-content/uploads/2019/06/Sin-t%C3%ADtulo-302.png\" width=\"350\"/>\n",
        "  \n",
        "<img src=\"https://www.ingenieriaindustrialonline.com/wp-content/uploads/2019/06/Sin-t%C3%ADtulo-309.png\" width=\"350\"/>"
      ],
      "metadata": {
        "id": "linUSoshvN7N"
      }
    },
    {
      "cell_type": "markdown",
      "source": [
        "## Práctica 2.2\n",
        "Vea el video:\n",
        "\n",
        "* [Camino mas corto Solver](https://youtu.be/LYeMWlTfOgA)\n",
        "\n",
        "Se pide:  \n",
        "1. Replique en un archivo de Excel el caso del vídeo, en la Hoja 1. En el método de resolución de Solver elija el método Simplex.\n",
        "2. En la Hoja 2, aplique esa metodología usando Solver a otro grafo de su invención. Dibuje el grafo, con sus nodos, flechas y pesos, y resuélvalo.\n",
        "3. Suba el archivo de Excel creado a la tarea del Aula Virtual."
      ],
      "metadata": {
        "id": "In4IULDcx1Az"
      }
    },
    {
      "cell_type": "markdown",
      "source": [
        "## Práctica 2.3\n",
        "1. Muestre el enlace a alguna página donde se de el algoritmo de Dijkstra programado en **Python**.\n",
        "2. Pruebe su código con algún grafo de ejemplo."
      ],
      "metadata": {
        "id": "Dp_Eb4ORzqg4"
      }
    },
    {
      "cell_type": "markdown",
      "source": [
        "## Solución 2.3\n",
        "La página de enlace es https://www.educative.io/answers/how-to-implement-dijkstras-algorithm-in-python"
      ],
      "metadata": {
        "id": "cjXjVTWaWWXO"
      }
    },
    {
      "cell_type": "code",
      "source": [
        "import sys\n",
        "\n",
        "def to_be_visited():\n",
        "  global visited_and_distance\n",
        "  v = -10  \n",
        "  for index in range(number_of_vertices):\n",
        "    if visited_and_distance[index][0] == 0 \\\n",
        "      and (v < 0 or visited_and_distance[index][1] <= \\\n",
        "      visited_and_distance[v][1]):\n",
        "        v = index\n",
        "  return v\n",
        "\n",
        "vertices = [[0, 1, 1, 1, 0],\n",
        "            [1, 0, 1, 0, 0],\n",
        "            [1, 1, 0, 0, 1],\n",
        "            [1, 0, 0, 0, 1],\n",
        "            [0, 0, 1, 1 ,0]]\n",
        "edges =  [[0, 2, 4, 6, 0],\n",
        "          [2, 0, 3, 0, 0],\n",
        "          [4, 3, 0, 0, 5],\n",
        "          [6, 0, 0, 0, 4],\n",
        "          [0, 0, 5, 5, 0]]\n",
        "\n",
        "number_of_vertices = len(vertices[0])\n",
        "\n",
        "\n",
        "visited_and_distance = [[0, 0]]\n",
        "for i in range(number_of_vertices-1):\n",
        "  visited_and_distance.append([0, sys.maxsize])\n",
        "\n",
        "for vertex in range(number_of_vertices):\n",
        "\n",
        "  to_visit = to_be_visited()\n",
        "  for neighbor_index in range(number_of_vertices):\n",
        "\n",
        "    if vertices[to_visit][neighbor_index] == 1 and \\\n",
        "     visited_and_distance[neighbor_index][0] == 0:\n",
        "      new_distance = visited_and_distance[to_visit][1] \\\n",
        "      + edges[to_visit][neighbor_index]\n",
        "\n",
        "      if visited_and_distance[neighbor_index][1] > new_distance:\n",
        "        visited_and_distance[neighbor_index][1] = new_distance\n",
        "\n",
        "  visited_and_distance[to_visit][0] = 1\n",
        "\n",
        "i = 0 \n",
        "     \n",
        "for distance in visited_and_distance:\n",
        "  print(\"La distancia mas corta de \",chr(ord('a') + i),\\\n",
        "  \" desde el vertice inicial es:\",distance[1])\n",
        "  i = i + 1\n"
      ],
      "metadata": {
        "id": "4rDRaLOA4Twj",
        "outputId": "4483269c-06b2-4be4-834d-23f3c1e720ed",
        "colab": {
          "base_uri": "https://localhost:8080/"
        }
      },
      "execution_count": null,
      "outputs": [
        {
          "output_type": "stream",
          "name": "stdout",
          "text": [
            "La distancia mas corta de  a  desde el vertice inicial es: 0\n",
            "La distancia mas corta de  b  desde el vertice inicial es: 2\n",
            "La distancia mas corta de  c  desde el vertice inicial es: 4\n",
            "La distancia mas corta de  d  desde el vertice inicial es: 6\n",
            "La distancia mas corta de  e  desde el vertice inicial es: 9\n"
          ]
        }
      ]
    },
    {
      "cell_type": "markdown",
      "source": [
        "## Práctica 2.4\n",
        "* Dibuja un grafo que tenga un mínimo de 6 nodos\n",
        "* Crea en **Python** su **matriz de adyacencia**\n",
        "* Crea en Python su **lista de adyacencia**\n",
        "* ¿Son cero todos los elementos de la diagonal principal?\n",
        " - En qué caso serían todos cero y en qué caso no.\n",
        "* ¿Es una matriz simétrica?\n",
        " - En qué caso sería simétrica y en qué caso no.\n",
        "* Usando Python, suma todos los valores de la matriz\n",
        "* Comprueba si funcionan bien o no los siguientes códigos:\n",
        " - El primero permite convertir una matriz de adyacencia en una lista de adyacencia.\n",
        " - El segundo permite convertir una lista de adyacencia en una matriz de adyacencia.\n",
        "* Dibuja el grafo del ejemplo que se usa en este código."
      ],
      "metadata": {
        "id": "r8s1WapAnHlw"
      }
    },
    {
      "cell_type": "code",
      "source": [
        "def convert_to_adjacency(matrix):\n",
        "    start = 0\n",
        "    res = []\n",
        "    lst = []\n",
        "    n = len(matrix)\n",
        "    for i in range(n):\n",
        "        res.append(lst*n)\n",
        "    while start < n:\n",
        "        y = matrix[start]\n",
        "        for i in range(len(y)):\n",
        "            if y[i]==1:\n",
        "                res[start].append(i)\n",
        "        start +=1\n",
        "    return res\n",
        "\n",
        "matrix =[[0,1,1,1,0,1,1,0,0],[1,0,0,1,0,0,1,1,0],[1,0,0,1,0,0,0,0,0],[1,1,1,0,1,0,0,0,0],[0,0,0,1,0,1,0,0,1],[1,0,0,0,1,0,0,0,1],[1,1,0,0,0,0,0,0,0],[0,1,0,0,0,0,0,0,0],[0,0,0,0,1,1,0,0,0]]\n",
        "print(convert_to_adjacency(matrix))"
      ],
      "metadata": {
        "id": "DDM1R2YzO-c-",
        "outputId": "42b31a0e-ade7-4b56-ed76-c72ffd3d95f0",
        "colab": {
          "base_uri": "https://localhost:8080/"
        }
      },
      "execution_count": null,
      "outputs": [
        {
          "output_type": "stream",
          "name": "stdout",
          "text": [
            "[[1, 2, 3, 5, 6], [0, 3, 6, 7], [0, 3], [0, 1, 2, 4], [3, 5, 8], [0, 4, 8], [0, 1], [1], [4, 5]]\n"
          ]
        }
      ]
    },
    {
      "cell_type": "code",
      "source": [
        "def convert_to_matrix(graph):\n",
        "    matrix =[]\n",
        "    for i in range(len(graph)): \n",
        "        matrix.append([0]*len(graph))\n",
        "        for j in graph[i]:\n",
        "            matrix[i][j]=1\n",
        "    return matrix\n",
        "\n",
        "lst =[[1,2,3,5,6],[0,3,6,7],[0,3],[0,1,2,4],[3,5,8],[0,4,8],[0,1],[1],[4,5]]\n",
        "print(convert_to_matrix(lst))"
      ],
      "metadata": {
        "id": "TcrGI9GTQ-o2",
        "outputId": "533505f4-4fea-4c04-c34a-6cce29a0b9d3",
        "colab": {
          "base_uri": "https://localhost:8080/"
        }
      },
      "execution_count": null,
      "outputs": [
        {
          "output_type": "stream",
          "name": "stdout",
          "text": [
            "[[0, 1, 1, 1, 0, 1, 1, 0, 0], [1, 0, 0, 1, 0, 0, 1, 1, 0], [1, 0, 0, 1, 0, 0, 0, 0, 0], [1, 1, 1, 0, 1, 0, 0, 0, 0], [0, 0, 0, 1, 0, 1, 0, 0, 1], [1, 0, 0, 0, 1, 0, 0, 0, 1], [1, 1, 0, 0, 0, 0, 0, 0, 0], [0, 1, 0, 0, 0, 0, 0, 0, 0], [0, 0, 0, 0, 1, 1, 0, 0, 0]]\n"
          ]
        }
      ]
    },
    {
      "cell_type": "markdown",
      "source": [
        "## Solución 2.4"
      ],
      "metadata": {
        "id": "bwJTxe5O3dUC"
      }
    },
    {
      "cell_type": "code",
      "source": [
        "#Matriz de adyacencia\n",
        "import pprint\n",
        "row_num = 6\n",
        "col_num = 6\n",
        "adjacency_matrix = []\n",
        "for i in range(row_num):\n",
        "    row = []\n",
        "    for j in range(col_num):\n",
        "        row.append(0)\n",
        "    adjacency_matrix.append(row)\n",
        "edges = [(1, 2), (1, 4), (1, 3), (2, 4), (3, 4), (3, 5), (3, 6), (4, 5), (5, 6)]\n",
        "for edge in edges:\n",
        "    row = edge[0]\n",
        "    col = edge[1]\n",
        "    adjacency_matrix[row - 1][col - 1] = 1\n",
        "    adjacency_matrix[col - 1][row - 1] = 1\n",
        "\n",
        "\n",
        "print(\"The adjacency matrix is:\")\n",
        "pprint.pprint(adjacency_matrix)"
      ],
      "metadata": {
        "colab": {
          "base_uri": "https://localhost:8080/"
        },
        "id": "5gUdsrfJ3iKy",
        "outputId": "e18ad4f5-d34a-4b69-fbfe-4607c1e719ef"
      },
      "execution_count": null,
      "outputs": [
        {
          "output_type": "stream",
          "name": "stdout",
          "text": [
            "The adjacency matrix is:\n",
            "[[0, 1, 1, 1, 0, 0],\n",
            " [1, 0, 0, 1, 0, 0],\n",
            " [1, 0, 0, 1, 1, 1],\n",
            " [1, 1, 1, 0, 1, 0],\n",
            " [0, 0, 1, 1, 0, 1],\n",
            " [0, 0, 1, 0, 1, 0]]\n"
          ]
        }
      ]
    },
    {
      "cell_type": "code",
      "source": [
        "#Lista de adyacencia\n",
        "adj_list = {}\n",
        "mylist = []\n",
        "def add_node(node):\n",
        "  if node not in mylist:\n",
        "    mylist.append(node)\n",
        "  else:\n",
        "    print(\"Node \",node,\" already exists!\")\n",
        " \n",
        "def add_edge(node1, node2):\n",
        "  temp = []\n",
        "  if node1 in mylist and node2 in mylist:\n",
        "    if node1 not in adj_list:\n",
        "      temp.append(node2)\n",
        "      adj_list[node1] = temp\n",
        "   \n",
        "    elif node1 in adj_list:\n",
        "      temp.extend(adj_list[node1])\n",
        "      temp.append(node2)\n",
        "      adj_list[node1] = temp\n",
        "  \n",
        "  else:\n",
        "    print(\"Nodes don't exist!\")\n",
        " \n",
        "def graph():\n",
        "  for node in adj_list:\n",
        "    print(node, \" ---> \", [i for i in adj_list[node]])\n",
        " \n",
        "\n",
        "add_node(0)\n",
        "add_node(1)\n",
        "add_node(2)\n",
        "add_node(3)\n",
        "add_node(4)\n",
        "add_node(5)\n",
        "add_node(6)\n",
        "\n",
        "add_edge(1,2)\n",
        "add_edge(1,4)\n",
        "add_edge(1,3)\n",
        "add_edge(2,4)\n",
        "add_edge(3,4)\n",
        "add_edge(3,5)\n",
        "add_edge(3,6)\n",
        "add_edge(4,5)\n",
        "add_edge(5,6)\n",
        "\n",
        "graph()\n",
        "print(adj_list)"
      ],
      "metadata": {
        "colab": {
          "base_uri": "https://localhost:8080/"
        },
        "id": "OTcD854jQEiF",
        "outputId": "5cf4ec46-7f6b-46d0-9336-e4654e473526"
      },
      "execution_count": null,
      "outputs": [
        {
          "output_type": "stream",
          "name": "stdout",
          "text": [
            "1  --->  [2, 4, 3]\n",
            "2  --->  [4]\n",
            "3  --->  [4, 5, 6]\n",
            "4  --->  [5]\n",
            "5  --->  [6]\n",
            "{1: [2, 4, 3], 2: [4], 3: [4, 5, 6], 4: [5], 5: [6]}\n"
          ]
        }
      ]
    },
    {
      "cell_type": "markdown",
      "source": [
        "* ¿Son cero todos los elementos de la diagonal principal?\n",
        " - En qué caso serían todos cero y en qué caso no.\n",
        "\n",
        "Si son ceros todos los elementos de la diagonal principal. En el caso de que hubiera uno o varios elementos distintos de cero en la diagonal principal indicaría que existe uno o varios bucles en el grafo. \n",
        "* ¿Es una matriz simétrica?\n",
        " - En qué caso sería simétrica y en qué caso no.\n",
        "Si es una matriz simétrica ya que al hacer la traspuesta de la matriz, da como resultado la matriz inicial. Por el contrario, si al hacer la traspuesta de la matriz da como resultado una matriz distinta a la inicial, no es simétrica."
      ],
      "metadata": {
        "id": "i6xW9ZnSksC5"
      }
    },
    {
      "cell_type": "code",
      "source": [
        "#Suma de todos los elementos de la matriz\n",
        "import numpy as np\n",
        "\n",
        "array1 = np.array([[0, 1, 1, 1, 0, 0],\n",
        " [1, 0, 0, 1, 0, 0],\n",
        " [1, 0, 0, 1, 1, 1],\n",
        " [1, 1, 1, 0, 1, 0],\n",
        " [0, 0, 1, 1, 0, 1],\n",
        " [0, 0, 1, 0, 1, 0]])\n",
        "\n",
        "total = np.sum(array1)\n",
        "print(f'La suma de todos los elementos es {total}')\n"
      ],
      "metadata": {
        "colab": {
          "base_uri": "https://localhost:8080/"
        },
        "id": "zVkRIQQKm-gA",
        "outputId": "a8c1b8ab-bb3a-442b-f453-7e82e5afa082"
      },
      "execution_count": null,
      "outputs": [
        {
          "output_type": "stream",
          "name": "stdout",
          "text": [
            "La suma de todos los elementos es 18\n"
          ]
        }
      ]
    },
    {
      "cell_type": "markdown",
      "source": [
        " * Comprueba si funcionan bien o no los siguientes códigos:\n",
        "  - El primero permite convertir una matriz de adyacencia en una lista de adyacencia.\n",
        "  - El segundo permite convertir una lista de adyacencia en una matriz de adyacencia.\n",
        "\n",
        "Si funcionan los dos códigos ya que en el primer código la matriz corresponde con la lista de adyacencia que se muestra al ejecutar el código. En el segundo código igualmente, la lista de adyacencia corresponde con la matriz que se observa al ejecutar el código.\n",
        " - Dibuja el grafo del ejemplo que se usa en este código.\n",
        "\n",
        "<img src=\"https://i.imgur.com/rifyDiX.jpeg\" width=\"300\"/>"
      ],
      "metadata": {
        "id": "5dfeX5Hth8Zi"
      }
    },
    {
      "cell_type": "markdown",
      "source": [
        "## Práctica 2.5\n",
        "**Árboles binarios**\n",
        "* Mira este vídeo: [¿Qué son los ÁRBOLES BINARIOS y por qué son tan geniales?](https://youtu.be/lMTaNbJAqvM)\n",
        "* ¿Qué son los **árboles binarios de búsqueda**? (en inglés: BST (Binary Search Tree))\n",
        "* Mira este vídeo: [Recorrido de Árboles Binarios](https://youtu.be/WCiwBrj8EQY)\n",
        "* Qué significa recorrer el árbol en:\n",
        " - preorden\n",
        " - inorden\n",
        " - postorden\n",
        "* Al BST del vídeo anterior añadele dos nodos de tu elección, de forma que continúe siendo un BST, dibujalo (poniendo en color azul claro los dos nodos nuevos) y da su recorrido en:\n",
        " - preorden\n",
        " - inorden (observa que en este caso los nodos deben quedar **ordenados** de menor a mayor)\n",
        " - postorden\n",
        "* ¿Por qué los BST son importantes en ciencias de la computación?\n",
        "* Pon un link a una página o vídeo que trate este tema en **Python**.\n",
        "* ¿Has probado el código en Python que comentas? ¿Funciona con el BST que has puesto como ejemplo?"
      ],
      "metadata": {
        "id": "KciKQEh-DIxH"
      }
    },
    {
      "cell_type": "markdown",
      "source": [
        "## Solución 2.5\n",
        "* ¿Qué son los **árboles binarios de búsqueda**? (en inglés: BST (Binary Search Tree)\n",
        " - Un ABB es un árbol binario que representa una estructura de datos (en forma de árbol) y permite representar dichos datos de forma jerarquizada y ordenados según cierto criterio.\n",
        "* Qué significa recorrer el árbol en:\n",
        " - preorden: consiste en recorrer en primer lugar la raíz y luego cada uno de los hijos en orden anterior. El recorrido es raíz, izquierda y luego derecha.\n",
        " - inorden: consiste en recorrer el arbol de la siguiente manera, primero el subárbol izquierdo, raíz y por último el subárbol derecho.\n",
        " - postorden: el recorrido postorden comienza con la izquierda, luego derecha y por último raíz.\n",
        "*Al BST del vídeo anterior añadele dos nodos de tu elección, de forma que continúe siendo un BST, dibujalo (poniendo en color azul claro los dos nodos nuevos) y da su recorrido en:\n",
        " <img src=\"https://i.imgur.com/oxyQCP2.jpeg\" width=\"400\"/>\n",
        "\n",
        " - preorden: 30, 15, 11, 2, 0, 1, 5, 7, 6, 13, 14, 21, 17, 16, 19, 26, 29, 35, 31, 34, 40, 50, 42, 45, 43, 60, 75.\n",
        " - inorden: 0, 1, 2, 5, 6, 7, 11, 13, 14, 15, 16, 17, 19, 21, 26, 29, 30, 31, 34, 35, 40, 41, 43, 45, 50, 60, 75.\n",
        " - postorden: 1, 0, 6, 7, 5, 14, 13, 11, 16, 19, 17, 29, 26, 21, 15, 34, 31, 43, 45, 42, 75, 60, 50, 40, 35, 30. \n",
        "* ¿Por qué los BST son importantes en ciencias de la computación?\n",
        " - Loa arboles binarios son importantes ya que permiten agilizar la busqueda de datos en la computación, y además permite ordenar los datos (que sean comparables) con una mayor rápidez. Debido al ahorro de tiempo en dichas busquedas, se ahorra dinero e inversión.\n",
        "* Pon un link a una página o vídeo que trate este tema en **Python**.\n",
        "  - https://www.geeksforgeeks.org/binary-search-tree-set-1-search-and-insertion/\n",
        "\n",
        "* ¿Has probado el código en Python que comentas? ¿Funciona con el BST que has puesto como ejemplo?\n",
        "\n",
        "  - Si lo he probado y funciona correctamente."
      ],
      "metadata": {
        "id": "w3nd80jM2XFS"
      }
    },
    {
      "cell_type": "markdown",
      "source": [
        "## Práctica 2.6\n",
        "* ¿Qué es un **camino hamiltoniano**?\n",
        "* Pon un ejemplo\n",
        "* Dibújalo\n",
        "* Resuélvelo\n",
        "* ¿Qué utilidad tiene?\n",
        "* Muestra los enlaces a un par de vídeos que hablen de ello"
      ],
      "metadata": {
        "id": "Chf7cUkfaR9O"
      }
    },
    {
      "cell_type": "markdown",
      "source": [
        "## Solución 2.6\n",
        "* ¿Qué es un **camino hamiltoniano**?\n",
        " - Un camino hamiltoniano es un camino que visita todos los nodos de un grafo una sola vez.\n",
        "* Pon un ejemplo, dibújalo, resuelvelo\n",
        "\n",
        " <img src=\"https://i.imgur.com/KzjKzr5.jpeg\" width=\"300\"/>\n",
        "  <img src=\"https://i.imgur.com/it13tth.jpeg\" width=\"300\"/>\n",
        "* ¿Qué utilidad tiene?\n",
        " -   Un camino hamiltoniano tiene como utilidad encontrar el\n",
        "itinerario mas óptimo desde un cierto punto de vista. \n",
        "* Muestra los enlaces a un par de vídeos que hablen de ello\n",
        " - https://www.youtube.com/watch?v=ueE7IAfLmqk y https://www.youtube.com/watch?v=uWqp8rqY4Fs"
      ],
      "metadata": {
        "id": "Ats_Yzr_uFHz"
      }
    },
    {
      "cell_type": "markdown",
      "source": [
        "## Práctica 2.7\n",
        "* Mira este vídeo:\n",
        " - [Un problema matemático de ciudades y carreteras](https://youtu.be/kwU1uIbylsM)\n",
        "* Dibuja el grafo y da tu solución"
      ],
      "metadata": {
        "id": "vJ9XxUVKcpys"
      }
    },
    {
      "cell_type": "markdown",
      "source": [
        "##Solución 2.7\n",
        "  * Dibuja el grafo\n",
        "\n",
        "  <img src=\"https://i.imgur.com/VJe3qaF.jpeg\" width=\"300\"/>\n",
        "\n",
        "  * Da tu solución: el problema que propone el video, es decir, encontrar un ciclo hamiltoniano del grafo no es posible ya que el grafo es bipartito y tiene un número impar de vértices."
      ],
      "metadata": {
        "id": "9qENz694tu1o"
      }
    },
    {
      "cell_type": "markdown",
      "source": [
        "## Práctica 2.8\n",
        "* El problema de **los puentes de Königsberg**\n",
        "* Describe el problema\n",
        "* Muestra una imagen del grafo resultante\n",
        "* Quién fue *Euler* y qué hizo para resolver el problema"
      ],
      "metadata": {
        "id": "mWSmp60VaQRp"
      }
    },
    {
      "cell_type": "markdown",
      "source": [
        "## Solución 2.8\n",
        " * Describe el problema \n",
        "  - Antiguamente, en la ciudad de Königsberg, había un rio que atravesaba la ciudad, dividiendo la zona en varias partes. En este rio, habían puentes que conectaban las distintas zonas entre sí. En total, había siete grandes puentes.\n",
        "Entonces, debido a esta situación surge la siguiente pregunta: ¿Se pueden atravesar todos los puentes pasando sólo una vez por cada puente?\n",
        "\n",
        " * Muestra una imagen del grafo resultante\n",
        "\n",
        "  <img src=\"http://2.bp.blogspot.com/_Sj_ZQzLQVBI/TJeP5hgamjI/AAAAAAAAA98/DcelwRNh0q8/s1600/Konigsburg_graph.jpg\" width=\"300\"/>\n",
        "\n",
        " * Quién fue *Euler* y qué hizo para resolver el problema\n",
        "\n",
        "Euler era uno de los matemáticos que se encontraban por Königsberg por aquella época. Demostró por qué no tenía solución dicho problema, y elaboró un teorema que podría aplicarse a cualquier tipo de regiones que quieren ser unidas cumpliendo una serie de normas.\n",
        "\n",
        "Para poder iniciar el desarrollo, Euler recurre a una abstracción del problema, centrándose en las zonas a unir (Nodos) y en los puentes (Aristas). Además, denominó grado al número de aristas que salen de un nodo.\n",
        "\n",
        "El teorema 1 propone que un grafo contiene un camino euleriano si el grafo es conexo y tiene como máximo una pareja con grado impar. Entendiendose por camino euleriano un camino que pasa por todas las aristas de un grafo una sola vez.\n",
        "También define que un grafo es conexo cuando todos los puntos se conectan entre sí, y no quedan ningunos aislados formando otro grafo.\n",
        "\n",
        "El teorema 2 dice que un ciclo euleriano es un camino euleriano cerrado, es decir, que coincide el punto final e inicial. Este se cumplira cuando el grafo sea conexo y todos los nodos presenten grado par. "
      ],
      "metadata": {
        "id": "Y7W4zJsM_820"
      }
    },
    {
      "cell_type": "markdown",
      "source": [
        "## Práctica 2.9\n",
        "* ¿Qué son los **caminos eulerianos**?\n",
        "* ¿Qué son los **ciclos eulerianos**?\n",
        "* Da los enlaces a dos vídeos que hablen de ello\n",
        "* Dibuja un par de casos"
      ],
      "metadata": {
        "id": "_jPsX_8vhGkL"
      }
    },
    {
      "cell_type": "markdown",
      "source": [
        "## Solución 2.9\n",
        "* ¿Qué son los **caminos eulerianos**?\n",
        " - Un camino euleriano es aquel camino que recorre todas las aristas de un grafo una sola vez, aunque puede pasar por el mismo nodo mas de una vez.\n",
        "* ¿Qué son los **ciclos eulerianos**?\n",
        " -  Un ciclo euleriano es un camino cerrado que recorre cada arista exactamente una vez.\n",
        "* Da los enlaces a dos vídeos que hablen de ello\n",
        " - https://www.youtube.com/watch?v=w8d-4FyrbYk y https://www.youtube.com/watch?v=zbOUAsoUoPg\n",
        "* Dibuja un par de casos\n",
        "\n",
        " - Camino euleriano:\n",
        "  <img src=\"https://i.imgur.com/HdPrQIZ.jpeg\" width=\"250\"/>\n",
        "  \n",
        " - Ciclo euleriano:\n",
        "    <img src=\"https://i.imgur.com/ThK5wr3.jpeg\" width=\"250\"/>\n"
      ],
      "metadata": {
        "id": "g9Z4fPNAkbLI"
      }
    },
    {
      "cell_type": "markdown",
      "source": [
        "## Práctica 2.10\n",
        "* Mira estos vídeos:\n",
        " - [¿Puedes dibujarlo sin despegar el lápiz?](https://youtu.be/IZ0-xFrlvag)\n",
        " - [USA esta LÓGICA cuando NO PUEDAS con un PROBLEMA](https://youtu.be/5Ncb7eU0LkQ)\n",
        "* Caso 1: dibuja un grafo en el que si sea posible y resuélvelo\n",
        "* Caso 2: dibuja un grafo en el que no sea posible y di el motivo"
      ],
      "metadata": {
        "id": "4wcsNU_-kQM-"
      }
    },
    {
      "cell_type": "markdown",
      "source": [
        "## Solución 2.10\n",
        "* Caso 1: dibuja un grafo en el que si sea posible y resuélvelo\n",
        "   <img src=\"https://i.imgur.com/tIyBAFC.jpeg\" width=\"300\"/>\n",
        "\n",
        "* Caso 2: dibuja un grafo en el que no sea posible y di el motivo\n",
        "\n",
        "<img src=\"https://i.imgur.com/zhOZRlc.jpeg\" width=\"300\"/>\n",
        "\n",
        "El grafo adjuntado no se puede resolver ya que tiene mas de dos vértices de grado impar. "
      ],
      "metadata": {
        "id": "vgqP4kde_IBJ"
      }
    }
  ]
}